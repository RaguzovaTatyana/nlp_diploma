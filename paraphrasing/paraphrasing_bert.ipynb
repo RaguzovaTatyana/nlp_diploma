{
 "cells": [
  {
   "cell_type": "code",
   "execution_count": 1,
   "id": "96f79170",
   "metadata": {},
   "outputs": [
    {
     "name": "stdout",
     "output_type": "stream",
     "text": [
      "Note: you may need to restart the kernel to use updated packages.\n"
     ]
    },
    {
     "name": "stderr",
     "output_type": "stream",
     "text": [
      "ERROR: Could not open requirements file: [Errno 2] No such file or directory: '../requirements.txt'\n"
     ]
    }
   ],
   "source": [
    "pip install -r ../requirements.txt"
   ]
  },
  {
   "cell_type": "code",
   "execution_count": 2,
   "id": "c23c9d12",
   "metadata": {},
   "outputs": [],
   "source": [
    "import pandas as pd\n",
    "from transformers import AutoModelForSequenceClassification\n",
    "import numpy as np\n",
    "import evaluate\n",
    "from transformers import TrainingArguments, Trainer,AutoTokenizer\n",
    "import torch\n",
    "from torch.utils.data import Dataset\n",
    "from sklearn.metrics import roc_auc_score,roc_curve, auc,f1_score\n",
    "from sklearn.model_selection import train_test_split\n",
    "from sklearn import metrics\n",
    "import matplotlib.pyplot as plt\n",
    "import seaborn as sns\n",
    "import scipy"
   ]
  },
  {
   "cell_type": "code",
   "execution_count": 3,
   "id": "8b16b8d5",
   "metadata": {},
   "outputs": [
    {
     "name": "stderr",
     "output_type": "stream",
     "text": [
      "Some weights of the model checkpoint at voidism/diffcse-bert-base-uncased-trans were not used when initializing BertForSequenceClassification: ['generator.vocab_layer_norm.bias', 'aux_bert.encoder.layer.6.output.LayerNorm.bias', 'aux_bert.encoder.layer.2.attention.self.key.weight', 'generator.vocab_projector.weight', 'aux_bert.encoder.layer.10.attention.self.value.bias', 'aux_bert.encoder.layer.1.attention.self.query.bias', 'generator.distilbert.transformer.layer.0.attention.k_lin.weight', 'aux_bert.encoder.layer.11.attention.output.dense.weight', 'generator.distilbert.transformer.layer.3.ffn.lin2.weight', 'generator.distilbert.transformer.layer.3.sa_layer_norm.weight', 'aux_bert.encoder.layer.5.output.LayerNorm.weight', 'aux_bert.encoder.layer.2.intermediate.dense.bias', 'aux_bert.encoder.layer.3.attention.self.key.bias', 'aux_bert.encoder.layer.0.attention.output.dense.weight', 'aux_bert.encoder.layer.4.attention.output.LayerNorm.weight', 'aux_bert.encoder.layer.10.attention.self.value.weight', 'generator.distilbert.transformer.layer.2.ffn.lin2.bias', 'aux_bert.encoder.layer.8.attention.self.value.bias', 'aux_bert.encoder.layer.4.output.LayerNorm.weight', 'aux_bert.encoder.layer.7.attention.self.query.bias', 'generator.distilbert.transformer.layer.1.attention.q_lin.bias', 'aux_bert.encoder.layer.11.attention.output.LayerNorm.weight', 'aux_bert.encoder.layer.11.attention.self.value.bias', 'lm_head.transform.dense.weight', 'aux_bert.encoder.layer.0.output.dense.weight', 'generator.distilbert.transformer.layer.1.attention.q_lin.weight', 'aux_bert.encoder.layer.6.output.dense.weight', 'generator.distilbert.transformer.layer.4.sa_layer_norm.weight', 'aux_bert.encoder.layer.2.attention.output.dense.weight', 'generator.distilbert.transformer.layer.5.output_layer_norm.weight', 'aux_bert.encoder.layer.0.attention.output.dense.bias', 'generator.distilbert.transformer.layer.1.sa_layer_norm.bias', 'lm_head.bias', 'generator.distilbert.transformer.layer.5.attention.k_lin.bias', 'generator.distilbert.transformer.layer.2.output_layer_norm.weight', 'aux_bert.encoder.layer.5.attention.output.dense.weight', 'aux_bert.encoder.layer.4.attention.output.LayerNorm.bias', 'aux_bert.encoder.layer.5.output.LayerNorm.bias', 'generator.distilbert.transformer.layer.4.output_layer_norm.weight', 'aux_bert.encoder.layer.4.attention.output.dense.weight', 'aux_bert.encoder.layer.5.attention.self.value.weight', 'generator.distilbert.transformer.layer.2.ffn.lin1.weight', 'aux_bert.encoder.layer.2.attention.self.key.bias', 'aux_bert.encoder.layer.1.attention.self.key.bias', 'aux_bert.embeddings.position_ids', 'aux_bert.encoder.layer.6.output.LayerNorm.weight', 'aux_bert.encoder.layer.8.attention.self.key.weight', 'aux_bert.encoder.layer.6.attention.output.dense.weight', 'generator.distilbert.transformer.layer.2.attention.k_lin.weight', 'aux_bert.encoder.layer.11.output.LayerNorm.weight', 'aux_bert.encoder.layer.7.output.LayerNorm.weight', 'aux_bert.encoder.layer.4.attention.self.query.bias', 'aux_bert.encoder.layer.1.attention.output.LayerNorm.bias', 'generator.distilbert.transformer.layer.4.attention.out_lin.bias', 'generator.distilbert.transformer.layer.0.sa_layer_norm.weight', 'aux_bert.encoder.layer.4.output.dense.bias', 'aux_bert.encoder.layer.6.attention.self.query.weight', 'aux_bert.encoder.layer.6.output.dense.bias', 'aux_bert.encoder.layer.1.intermediate.dense.bias', 'generator.distilbert.embeddings.position_embeddings.weight', 'aux_bert.encoder.layer.9.output.dense.weight', 'aux_bert.encoder.layer.4.output.dense.weight', 'aux_bert.encoder.layer.7.attention.output.LayerNorm.bias', 'aux_bert.encoder.layer.0.attention.self.value.bias', 'mlp.net.4.running_mean', 'mlp.net.0.weight', 'aux_bert.encoder.layer.10.attention.output.LayerNorm.weight', 'aux_bert.encoder.layer.4.output.LayerNorm.bias', 'generator.distilbert.embeddings.LayerNorm.weight', 'mlp.net.1.bias', 'generator.distilbert.transformer.layer.5.attention.out_lin.weight', 'generator.distilbert.embeddings.word_embeddings.weight', 'aux_bert.encoder.layer.1.attention.self.key.weight', 'generator.distilbert.transformer.layer.3.attention.q_lin.weight', 'aux_bert.encoder.layer.1.attention.output.dense.bias', 'generator.distilbert.transformer.layer.1.ffn.lin2.bias', 'aux_bert.encoder.layer.4.attention.self.key.weight', 'aux_bert.encoder.layer.3.intermediate.dense.weight', 'aux_bert.encoder.layer.3.attention.self.query.weight', 'generator.distilbert.transformer.layer.2.ffn.lin2.weight', 'aux_bert.encoder.layer.6.intermediate.dense.weight', 'generator.distilbert.transformer.layer.2.sa_layer_norm.bias', 'generator.distilbert.transformer.layer.3.ffn.lin1.weight', 'aux_bert.encoder.layer.8.attention.self.query.weight', 'aux_bert.embeddings.LayerNorm.weight', 'mlp.net.3.weight', 'aux_bert.encoder.layer.0.output.dense.bias', 'generator.distilbert.transformer.layer.3.attention.v_lin.bias', 'generator.distilbert.transformer.layer.0.ffn.lin2.bias', 'aux_bert.encoder.layer.7.output.dense.bias', 'aux_bert.encoder.layer.5.attention.output.LayerNorm.weight', 'generator.distilbert.transformer.layer.1.attention.k_lin.bias', 'generator.distilbert.transformer.layer.4.output_layer_norm.bias', 'aux_bert.encoder.layer.0.output.LayerNorm.weight', 'generator.distilbert.transformer.layer.4.ffn.lin2.bias', 'generator.distilbert.transformer.layer.4.sa_layer_norm.bias', 'generator.vocab_layer_norm.weight', 'generator.vocab_transform.bias', 'aux_bert.encoder.layer.7.attention.self.value.weight', 'generator.distilbert.transformer.layer.1.output_layer_norm.bias', 'aux_bert.encoder.layer.2.attention.self.value.bias', 'generator.distilbert.transformer.layer.4.attention.v_lin.weight', 'generator.distilbert.transformer.layer.0.output_layer_norm.weight', 'generator.distilbert.transformer.layer.1.ffn.lin1.weight', 'generator.distilbert.transformer.layer.2.attention.v_lin.bias', 'aux_bert.encoder.layer.7.output.LayerNorm.bias', 'generator.distilbert.transformer.layer.3.attention.v_lin.weight', 'aux_bert.encoder.layer.8.output.LayerNorm.weight', 'aux_bert.encoder.layer.1.output.LayerNorm.bias', 'aux_bert.encoder.layer.11.attention.self.key.weight', 'generator.distilbert.transformer.layer.0.ffn.lin1.bias', 'aux_bert.encoder.layer.0.attention.output.LayerNorm.bias', 'aux_bert.encoder.layer.3.attention.self.key.weight', 'generator.distilbert.transformer.layer.5.ffn.lin2.weight', 'aux_bert.encoder.layer.9.attention.output.dense.bias', 'generator.distilbert.transformer.layer.2.attention.k_lin.bias', 'mlp.net.1.num_batches_tracked', 'mlp.net.1.running_var', 'generator.distilbert.transformer.layer.0.attention.out_lin.weight', 'aux_bert.encoder.layer.5.attention.self.key.weight', 'generator.distilbert.transformer.layer.1.attention.out_lin.weight', 'lm_head.transform.LayerNorm.weight', 'generator.distilbert.transformer.layer.4.attention.q_lin.weight', 'aux_bert.encoder.layer.5.attention.self.value.bias', 'aux_bert.embeddings.position_embeddings.weight', 'generator.distilbert.transformer.layer.1.attention.v_lin.weight', 'mlp.net.1.running_mean', 'aux_bert.encoder.layer.9.output.dense.bias', 'aux_bert.encoder.layer.0.intermediate.dense.weight', 'generator.distilbert.transformer.layer.2.sa_layer_norm.weight', 'aux_bert.encoder.layer.3.output.dense.weight', 'generator.distilbert.transformer.layer.0.attention.k_lin.bias', 'aux_bert.encoder.layer.1.output.dense.weight', 'generator.distilbert.transformer.layer.4.attention.q_lin.bias', 'aux_bert.encoder.layer.10.attention.self.key.bias', 'generator.distilbert.transformer.layer.3.attention.q_lin.bias', 'aux_bert.encoder.layer.9.attention.output.dense.weight', 'aux_bert.encoder.layer.8.intermediate.dense.weight', 'lm_head.decoder.bias', 'aux_bert.encoder.layer.9.attention.self.query.weight', 'aux_bert.encoder.layer.10.output.dense.weight', 'aux_bert.encoder.layer.9.attention.output.LayerNorm.bias', 'aux_bert.encoder.layer.9.attention.self.value.bias', 'aux_bert.encoder.layer.8.attention.self.value.weight', 'generator.distilbert.transformer.layer.0.ffn.lin2.weight', 'aux_bert.encoder.layer.2.attention.self.query.weight', 'generator.distilbert.transformer.layer.5.ffn.lin2.bias', 'generator.distilbert.transformer.layer.1.attention.v_lin.bias', 'aux_bert.encoder.layer.11.output.dense.bias', 'aux_bert.encoder.layer.6.attention.self.query.bias', 'aux_bert.encoder.layer.6.attention.output.LayerNorm.bias', 'generator.distilbert.transformer.layer.5.attention.q_lin.weight', 'aux_bert.encoder.layer.7.attention.self.query.weight', 'generator.distilbert.transformer.layer.3.sa_layer_norm.bias', 'aux_bert.encoder.layer.2.attention.self.value.weight', 'generator.distilbert.transformer.layer.1.attention.k_lin.weight', 'aux_bert.encoder.layer.0.attention.output.LayerNorm.weight', 'aux_bert.encoder.layer.4.attention.self.value.bias', 'generator.distilbert.transformer.layer.0.sa_layer_norm.bias', 'lm_head.decoder.weight', 'mlp.net.4.running_var', 'generator.distilbert.transformer.layer.5.attention.v_lin.weight', 'aux_bert.encoder.layer.1.intermediate.dense.weight', 'aux_bert.encoder.layer.0.output.LayerNorm.bias', 'aux_bert.encoder.layer.5.attention.self.key.bias', 'aux_bert.encoder.layer.11.attention.self.query.weight', 'generator.distilbert.transformer.layer.4.ffn.lin1.weight', 'aux_bert.encoder.layer.10.attention.output.dense.weight', 'aux_bert.encoder.layer.10.attention.output.dense.bias', 'aux_bert.embeddings.token_type_embeddings.weight', 'aux_bert.encoder.layer.0.attention.self.value.weight', 'aux_bert.encoder.layer.1.attention.self.value.weight', 'aux_bert.encoder.layer.6.attention.output.dense.bias', 'aux_bert.encoder.layer.11.intermediate.dense.bias', 'generator.distilbert.transformer.layer.2.attention.out_lin.bias', 'generator.distilbert.transformer.layer.4.ffn.lin1.bias', 'generator.distilbert.embeddings.LayerNorm.bias', 'aux_bert.encoder.layer.11.attention.output.dense.bias', 'generator.distilbert.transformer.layer.5.sa_layer_norm.bias', 'aux_bert.encoder.layer.1.attention.self.value.bias', 'generator.distilbert.transformer.layer.0.attention.v_lin.bias', 'aux_bert.encoder.layer.6.attention.self.key.weight', 'mlp.net.4.num_batches_tracked', 'aux_bert.encoder.layer.7.attention.self.value.bias', 'aux_bert.encoder.layer.8.output.dense.weight', 'aux_bert.encoder.layer.8.attention.output.dense.bias', 'aux_bert.encoder.layer.10.output.dense.bias', 'generator.distilbert.transformer.layer.1.ffn.lin1.bias', 'aux_bert.encoder.layer.5.output.dense.bias', 'generator.distilbert.transformer.layer.4.attention.k_lin.weight', 'aux_bert.encoder.layer.3.attention.output.LayerNorm.bias', 'aux_bert.encoder.layer.7.attention.output.LayerNorm.weight', 'aux_bert.encoder.layer.3.attention.output.LayerNorm.weight', 'generator.distilbert.transformer.layer.1.sa_layer_norm.weight', 'aux_bert.encoder.layer.0.intermediate.dense.bias', 'generator.distilbert.transformer.layer.0.ffn.lin1.weight', 'aux_bert.encoder.layer.11.attention.output.LayerNorm.bias', 'aux_bert.encoder.layer.2.output.LayerNorm.weight', 'aux_bert.encoder.layer.2.attention.output.dense.bias', 'aux_bert.encoder.layer.10.output.LayerNorm.bias', 'aux_bert.encoder.layer.8.output.dense.bias', 'aux_bert.encoder.layer.0.attention.self.query.bias', 'aux_bert.encoder.layer.5.intermediate.dense.bias', 'aux_bert.encoder.layer.11.output.LayerNorm.bias', 'aux_bert.encoder.layer.7.attention.self.key.bias', 'aux_bert.encoder.layer.9.output.LayerNorm.weight', 'generator.distilbert.transformer.layer.5.sa_layer_norm.weight', 'generator.distilbert.transformer.layer.5.attention.v_lin.bias', 'generator.distilbert.transformer.layer.2.ffn.lin1.bias', 'aux_bert.embeddings.LayerNorm.bias', 'aux_bert.encoder.layer.5.output.dense.weight', 'aux_bert.encoder.layer.4.attention.self.query.weight', 'aux_bert.encoder.layer.8.attention.output.dense.weight', 'aux_bert.encoder.layer.4.attention.self.key.bias', 'generator.distilbert.transformer.layer.0.output_layer_norm.bias', 'generator.distilbert.transformer.layer.5.ffn.lin1.weight', 'lm_head.transform.dense.bias', 'generator.distilbert.transformer.layer.4.attention.k_lin.bias', 'aux_bert.encoder.layer.2.attention.output.LayerNorm.bias', 'aux_bert.encoder.layer.10.attention.self.query.weight', 'aux_bert.encoder.layer.0.attention.self.query.weight', 'aux_bert.encoder.layer.11.intermediate.dense.weight', 'aux_bert.encoder.layer.11.attention.self.query.bias', 'aux_bert.encoder.layer.10.attention.self.query.bias', 'generator.distilbert.transformer.layer.2.attention.q_lin.weight', 'generator.distilbert.transformer.layer.0.attention.v_lin.weight', 'aux_bert.encoder.layer.1.attention.output.dense.weight', 'aux_bert.encoder.layer.11.attention.self.key.bias', 'mlp.net.1.weight', 'aux_bert.encoder.layer.8.attention.output.LayerNorm.bias', 'aux_bert.encoder.layer.9.attention.output.LayerNorm.weight', 'aux_bert.encoder.layer.3.attention.self.query.bias', 'generator.distilbert.transformer.layer.1.output_layer_norm.weight', 'aux_bert.encoder.layer.7.attention.output.dense.weight', 'generator.distilbert.transformer.layer.2.attention.q_lin.bias', 'aux_bert.encoder.layer.7.intermediate.dense.bias', 'aux_bert.encoder.layer.1.output.LayerNorm.weight', 'generator.distilbert.transformer.layer.3.attention.out_lin.bias', 'aux_bert.encoder.layer.6.attention.self.value.weight', 'aux_bert.encoder.layer.9.output.LayerNorm.bias', 'aux_bert.encoder.layer.3.attention.output.dense.weight', 'aux_bert.encoder.layer.0.attention.self.key.weight', 'aux_bert.encoder.layer.1.attention.output.LayerNorm.weight', 'aux_bert.encoder.layer.4.attention.self.value.weight', 'aux_bert.encoder.layer.8.attention.output.LayerNorm.weight', 'aux_bert.encoder.layer.3.output.LayerNorm.weight', 'aux_bert.encoder.layer.10.attention.self.key.weight', 'aux_bert.encoder.layer.8.attention.self.key.bias', 'generator.distilbert.transformer.layer.1.attention.out_lin.bias', 'aux_bert.encoder.layer.6.attention.self.key.bias', 'generator.vocab_projector.bias', 'aux_bert.encoder.layer.10.attention.output.LayerNorm.bias', 'generator.distilbert.transformer.layer.0.attention.q_lin.weight', 'generator.distilbert.transformer.layer.5.attention.q_lin.bias', 'aux_bert.encoder.layer.4.intermediate.dense.weight', 'generator.distilbert.transformer.layer.3.attention.k_lin.bias', 'aux_bert.encoder.layer.11.attention.self.value.weight', 'aux_bert.encoder.layer.9.intermediate.dense.bias', 'aux_bert.encoder.layer.7.output.dense.weight', 'generator.distilbert.transformer.layer.2.output_layer_norm.bias', 'aux_bert.encoder.layer.1.output.dense.bias', 'aux_bert.encoder.layer.9.attention.self.value.weight', 'aux_bert.encoder.layer.2.intermediate.dense.weight', 'aux_bert.encoder.layer.1.attention.self.query.weight', 'generator.distilbert.transformer.layer.4.ffn.lin2.weight', 'aux_bert.encoder.layer.10.intermediate.dense.weight', 'aux_bert.encoder.layer.3.attention.self.value.weight', 'generator.distilbert.transformer.layer.5.attention.out_lin.bias', 'aux_bert.encoder.layer.10.output.LayerNorm.weight', 'aux_bert.encoder.layer.11.output.dense.weight', 'aux_bert.encoder.layer.9.attention.self.query.bias', 'generator.vocab_transform.weight', 'generator.distilbert.transformer.layer.3.output_layer_norm.weight', 'aux_bert.encoder.layer.8.intermediate.dense.bias', 'generator.distilbert.transformer.layer.0.attention.out_lin.bias', 'generator.distilbert.transformer.layer.3.attention.k_lin.weight', 'aux_bert.encoder.layer.7.intermediate.dense.weight', 'aux_bert.encoder.layer.8.attention.self.query.bias', 'aux_bert.encoder.layer.3.attention.self.value.bias', 'aux_bert.encoder.layer.3.output.dense.bias', 'generator.distilbert.transformer.layer.0.attention.q_lin.bias', 'aux_bert.encoder.layer.6.attention.self.value.bias', 'generator.distilbert.transformer.layer.2.attention.v_lin.weight', 'aux_bert.embeddings.word_embeddings.weight', 'aux_bert.encoder.layer.2.output.LayerNorm.bias', 'aux_bert.encoder.layer.3.intermediate.dense.bias', 'aux_bert.encoder.layer.2.output.dense.weight', 'generator.distilbert.transformer.layer.5.output_layer_norm.bias', 'aux_bert.encoder.layer.2.output.dense.bias', 'generator.distilbert.transformer.layer.5.ffn.lin1.bias', 'aux_bert.encoder.layer.9.attention.self.key.weight', 'aux_bert.encoder.layer.3.attention.output.dense.bias', 'generator.distilbert.transformer.layer.5.attention.k_lin.weight', 'aux_bert.encoder.layer.5.attention.self.query.bias', 'generator.distilbert.transformer.layer.3.output_layer_norm.bias', 'aux_bert.encoder.layer.2.attention.self.query.bias', 'aux_bert.encoder.layer.2.attention.output.LayerNorm.weight', 'aux_bert.encoder.layer.7.attention.output.dense.bias', 'generator.distilbert.transformer.layer.3.ffn.lin2.bias', 'aux_bert.encoder.layer.10.intermediate.dense.bias', 'generator.distilbert.transformer.layer.3.attention.out_lin.weight', 'aux_bert.encoder.layer.8.output.LayerNorm.bias', 'aux_bert.encoder.layer.0.attention.self.key.bias', 'aux_bert.encoder.layer.5.intermediate.dense.weight', 'aux_bert.encoder.layer.5.attention.self.query.weight', 'aux_bert.encoder.layer.5.attention.output.dense.bias', 'aux_bert.encoder.layer.5.attention.output.LayerNorm.bias', 'generator.distilbert.transformer.layer.1.ffn.lin2.weight', 'aux_bert.encoder.layer.4.attention.output.dense.bias', 'aux_bert.encoder.layer.3.output.LayerNorm.bias', 'generator.distilbert.transformer.layer.3.ffn.lin1.bias', 'aux_bert.encoder.layer.9.attention.self.key.bias', 'generator.distilbert.transformer.layer.2.attention.out_lin.weight', 'generator.distilbert.transformer.layer.4.attention.v_lin.bias', 'aux_bert.encoder.layer.7.attention.self.key.weight', 'aux_bert.encoder.layer.6.attention.output.LayerNorm.weight', 'aux_bert.encoder.layer.6.intermediate.dense.bias', 'lm_head.transform.LayerNorm.bias', 'aux_bert.encoder.layer.9.intermediate.dense.weight', 'aux_bert.encoder.layer.4.intermediate.dense.bias', 'generator.distilbert.transformer.layer.4.attention.out_lin.weight']\n",
      "- This IS expected if you are initializing BertForSequenceClassification from the checkpoint of a model trained on another task or with another architecture (e.g. initializing a BertForSequenceClassification model from a BertForPreTraining model).\n",
      "- This IS NOT expected if you are initializing BertForSequenceClassification from the checkpoint of a model that you expect to be exactly identical (initializing a BertForSequenceClassification model from a BertForSequenceClassification model).\n"
     ]
    },
    {
     "name": "stderr",
     "output_type": "stream",
     "text": [
      "Some weights of BertForSequenceClassification were not initialized from the model checkpoint at voidism/diffcse-bert-base-uncased-trans and are newly initialized: ['bert.pooler.dense.weight', 'classifier.weight', 'bert.pooler.dense.bias', 'classifier.bias']\n",
      "You should probably TRAIN this model on a down-stream task to be able to use it for predictions and inference.\n"
     ]
    }
   ],
   "source": [
    "model = AutoModelForSequenceClassification.from_pretrained(\"voidism/diffcse-bert-base-uncased-trans\", num_labels=1)\n",
    "metric = evaluate.load(\"accuracy\")\n",
    "training_args = TrainingArguments(output_dir=\"test_trainer\", evaluation_strategy=\"epoch\")"
   ]
  },
  {
   "cell_type": "code",
   "execution_count": 4,
   "id": "fa9db75f",
   "metadata": {},
   "outputs": [
    {
     "data": {
      "text/html": [
       "<div>\n",
       "<style scoped>\n",
       "    .dataframe tbody tr th:only-of-type {\n",
       "        vertical-align: middle;\n",
       "    }\n",
       "\n",
       "    .dataframe tbody tr th {\n",
       "        vertical-align: top;\n",
       "    }\n",
       "\n",
       "    .dataframe thead th {\n",
       "        text-align: right;\n",
       "    }\n",
       "</style>\n",
       "<table border=\"1\" class=\"dataframe\">\n",
       "  <thead>\n",
       "    <tr style=\"text-align: right;\">\n",
       "      <th></th>\n",
       "      <th>dataset</th>\n",
       "      <th>method</th>\n",
       "      <th>text</th>\n",
       "      <th>label</th>\n",
       "      <th>SimCSE</th>\n",
       "      <th>SimCSE_roberta</th>\n",
       "      <th>DiffCSE</th>\n",
       "      <th>DiffCSE_roberta</th>\n",
       "    </tr>\n",
       "  </thead>\n",
       "  <tbody>\n",
       "    <tr>\n",
       "      <th>0</th>\n",
       "      <td>archiv</td>\n",
       "      <td>chief</td>\n",
       "      <td>\\nThe isotony axiom is natural because we have...</td>\n",
       "      <td>0</td>\n",
       "      <td>0.500</td>\n",
       "      <td>0.470</td>\n",
       "      <td>0.595</td>\n",
       "      <td>0.710</td>\n",
       "    </tr>\n",
       "    <tr>\n",
       "      <th>1</th>\n",
       "      <td>archiv</td>\n",
       "      <td>chief</td>\n",
       "      <td>\\nIn the usual situation, all the von Neumann ...</td>\n",
       "      <td>0</td>\n",
       "      <td>0.280</td>\n",
       "      <td>0.375</td>\n",
       "      <td>0.770</td>\n",
       "      <td>0.360</td>\n",
       "    </tr>\n",
       "    <tr>\n",
       "      <th>2</th>\n",
       "      <td>archiv</td>\n",
       "      <td>chief</td>\n",
       "      <td>\\nAt the end of this section, we compare our f...</td>\n",
       "      <td>0</td>\n",
       "      <td>0.355</td>\n",
       "      <td>0.420</td>\n",
       "      <td>0.475</td>\n",
       "      <td>0.325</td>\n",
       "    </tr>\n",
       "    <tr>\n",
       "      <th>3</th>\n",
       "      <td>archiv</td>\n",
       "      <td>chief</td>\n",
       "      <td>\\nBoth of one (unitary) vertex operator algebr...</td>\n",
       "      <td>0</td>\n",
       "      <td>0.595</td>\n",
       "      <td>0.475</td>\n",
       "      <td>0.670</td>\n",
       "      <td>0.685</td>\n",
       "    </tr>\n",
       "    <tr>\n",
       "      <th>4</th>\n",
       "      <td>archiv</td>\n",
       "      <td>chief</td>\n",
       "      <td>\\nFor nets of factors, we have introduced a ne...</td>\n",
       "      <td>0</td>\n",
       "      <td>0.485</td>\n",
       "      <td>0.590</td>\n",
       "      <td>0.590</td>\n",
       "      <td>0.390</td>\n",
       "    </tr>\n",
       "    <tr>\n",
       "      <th>...</th>\n",
       "      <td>...</td>\n",
       "      <td>...</td>\n",
       "      <td>...</td>\n",
       "      <td>...</td>\n",
       "      <td>...</td>\n",
       "      <td>...</td>\n",
       "      <td>...</td>\n",
       "      <td>...</td>\n",
       "    </tr>\n",
       "    <tr>\n",
       "      <th>257450</th>\n",
       "      <td>wikipedia</td>\n",
       "      <td>spin</td>\n",
       "      <td>\"Dead Man's Chest\" was discharged in the Unite...</td>\n",
       "      <td>1</td>\n",
       "      <td>0.745</td>\n",
       "      <td>0.695</td>\n",
       "      <td>0.825</td>\n",
       "      <td>0.950</td>\n",
       "    </tr>\n",
       "    <tr>\n",
       "      <th>257451</th>\n",
       "      <td>wikipedia</td>\n",
       "      <td>spin</td>\n",
       "      <td>The wedding of Will Turner and Elizabeth Swann...</td>\n",
       "      <td>1</td>\n",
       "      <td>0.460</td>\n",
       "      <td>0.560</td>\n",
       "      <td>0.485</td>\n",
       "      <td>0.730</td>\n",
       "    </tr>\n",
       "    <tr>\n",
       "      <th>257452</th>\n",
       "      <td>wikipedia</td>\n",
       "      <td>spin</td>\n",
       "      <td>Will discovers Jack and the group on an island...</td>\n",
       "      <td>1</td>\n",
       "      <td>0.395</td>\n",
       "      <td>0.560</td>\n",
       "      <td>0.445</td>\n",
       "      <td>0.545</td>\n",
       "    </tr>\n",
       "    <tr>\n",
       "      <th>257453</th>\n",
       "      <td>wikipedia</td>\n",
       "      <td>spin</td>\n",
       "      <td>In Tortuga, Jack enlists another group, includ...</td>\n",
       "      <td>1</td>\n",
       "      <td>0.500</td>\n",
       "      <td>0.640</td>\n",
       "      <td>0.585</td>\n",
       "      <td>0.755</td>\n",
       "    </tr>\n",
       "    <tr>\n",
       "      <th>257454</th>\n",
       "      <td>wikipedia</td>\n",
       "      <td>spin</td>\n",
       "      <td>Jack arranges the survivors to forsake transpo...</td>\n",
       "      <td>1</td>\n",
       "      <td>0.595</td>\n",
       "      <td>0.525</td>\n",
       "      <td>0.540</td>\n",
       "      <td>0.790</td>\n",
       "    </tr>\n",
       "  </tbody>\n",
       "</table>\n",
       "<p>257455 rows × 8 columns</p>\n",
       "</div>"
      ],
      "text/plain": [
       "          dataset method                                               text  \\\n",
       "0          archiv  chief  \\nThe isotony axiom is natural because we have...   \n",
       "1          archiv  chief  \\nIn the usual situation, all the von Neumann ...   \n",
       "2          archiv  chief  \\nAt the end of this section, we compare our f...   \n",
       "3          archiv  chief  \\nBoth of one (unitary) vertex operator algebr...   \n",
       "4          archiv  chief  \\nFor nets of factors, we have introduced a ne...   \n",
       "...           ...    ...                                                ...   \n",
       "257450  wikipedia   spin  \"Dead Man's Chest\" was discharged in the Unite...   \n",
       "257451  wikipedia   spin  The wedding of Will Turner and Elizabeth Swann...   \n",
       "257452  wikipedia   spin  Will discovers Jack and the group on an island...   \n",
       "257453  wikipedia   spin  In Tortuga, Jack enlists another group, includ...   \n",
       "257454  wikipedia   spin  Jack arranges the survivors to forsake transpo...   \n",
       "\n",
       "        label  SimCSE  SimCSE_roberta  DiffCSE  DiffCSE_roberta  \n",
       "0           0   0.500           0.470    0.595            0.710  \n",
       "1           0   0.280           0.375    0.770            0.360  \n",
       "2           0   0.355           0.420    0.475            0.325  \n",
       "3           0   0.595           0.475    0.670            0.685  \n",
       "4           0   0.485           0.590    0.590            0.390  \n",
       "...       ...     ...             ...      ...              ...  \n",
       "257450      1   0.745           0.695    0.825            0.950  \n",
       "257451      1   0.460           0.560    0.485            0.730  \n",
       "257452      1   0.395           0.560    0.445            0.545  \n",
       "257453      1   0.500           0.640    0.585            0.755  \n",
       "257454      1   0.595           0.525    0.540            0.790  \n",
       "\n",
       "[257455 rows x 8 columns]"
      ]
     },
     "execution_count": 4,
     "metadata": {},
     "output_type": "execute_result"
    }
   ],
   "source": [
    "dataset_test = pd.read_parquet(r'test_result.parquet', engine='fastparquet')\n",
    "dataset_test"
   ]
  },
  {
   "cell_type": "code",
   "execution_count": 5,
   "id": "9a208229",
   "metadata": {},
   "outputs": [
    {
     "data": {
      "text/html": [
       "<div>\n",
       "<style scoped>\n",
       "    .dataframe tbody tr th:only-of-type {\n",
       "        vertical-align: middle;\n",
       "    }\n",
       "\n",
       "    .dataframe tbody tr th {\n",
       "        vertical-align: top;\n",
       "    }\n",
       "\n",
       "    .dataframe thead th {\n",
       "        text-align: right;\n",
       "    }\n",
       "</style>\n",
       "<table border=\"1\" class=\"dataframe\">\n",
       "  <thead>\n",
       "    <tr style=\"text-align: right;\">\n",
       "      <th></th>\n",
       "      <th>dataset</th>\n",
       "      <th>method</th>\n",
       "      <th>text</th>\n",
       "      <th>label</th>\n",
       "      <th>SimCSE</th>\n",
       "      <th>SimCSE_roberta</th>\n",
       "      <th>DiffCSE</th>\n",
       "      <th>DiffCSE_roberta</th>\n",
       "    </tr>\n",
       "  </thead>\n",
       "  <tbody>\n",
       "    <tr>\n",
       "      <th>0</th>\n",
       "      <td>wikipediaTrain</td>\n",
       "      <td>spin</td>\n",
       "      <td>3D graphics were created using the Nichimen N-...</td>\n",
       "      <td>0</td>\n",
       "      <td>0.160</td>\n",
       "      <td>0.080</td>\n",
       "      <td>0.090</td>\n",
       "      <td>0.095</td>\n",
       "    </tr>\n",
       "    <tr>\n",
       "      <th>1</th>\n",
       "      <td>wikipediaTrain</td>\n",
       "      <td>spin</td>\n",
       "      <td>Miyamoto's guiding design philosophy was to in...</td>\n",
       "      <td>0</td>\n",
       "      <td>0.170</td>\n",
       "      <td>0.215</td>\n",
       "      <td>0.100</td>\n",
       "      <td>0.155</td>\n",
       "    </tr>\n",
       "    <tr>\n",
       "      <th>2</th>\n",
       "      <td>wikipediaTrain</td>\n",
       "      <td>spin</td>\n",
       "      <td>\"Super Mario 64\" features more puzzles than ea...</td>\n",
       "      <td>0</td>\n",
       "      <td>0.075</td>\n",
       "      <td>0.150</td>\n",
       "      <td>0.110</td>\n",
       "      <td>0.065</td>\n",
       "    </tr>\n",
       "    <tr>\n",
       "      <th>3</th>\n",
       "      <td>wikipediaTrain</td>\n",
       "      <td>spin</td>\n",
       "      <td>\"Super Mario 64\" received widespread critical ...</td>\n",
       "      <td>0</td>\n",
       "      <td>0.080</td>\n",
       "      <td>0.115</td>\n",
       "      <td>0.040</td>\n",
       "      <td>0.060</td>\n",
       "    </tr>\n",
       "    <tr>\n",
       "      <th>4</th>\n",
       "      <td>wikipediaTrain</td>\n",
       "      <td>spin</td>\n",
       "      <td>The game has been praised in the gaming press,...</td>\n",
       "      <td>0</td>\n",
       "      <td>0.080</td>\n",
       "      <td>0.070</td>\n",
       "      <td>0.050</td>\n",
       "      <td>0.090</td>\n",
       "    </tr>\n",
       "    <tr>\n",
       "      <th>...</th>\n",
       "      <td>...</td>\n",
       "      <td>...</td>\n",
       "      <td>...</td>\n",
       "      <td>...</td>\n",
       "      <td>...</td>\n",
       "      <td>...</td>\n",
       "      <td>...</td>\n",
       "      <td>...</td>\n",
       "    </tr>\n",
       "    <tr>\n",
       "      <th>200762</th>\n",
       "      <td>wikipediaTrain</td>\n",
       "      <td>spin</td>\n",
       "      <td>A \"Roy of the Rovers\" PC amusement was dischar...</td>\n",
       "      <td>1</td>\n",
       "      <td>0.945</td>\n",
       "      <td>0.935</td>\n",
       "      <td>0.995</td>\n",
       "      <td>0.970</td>\n",
       "    </tr>\n",
       "    <tr>\n",
       "      <th>200763</th>\n",
       "      <td>wikipediaTrain</td>\n",
       "      <td>spin</td>\n",
       "      <td>On 29 February 2008 it was reported that Titan...</td>\n",
       "      <td>1</td>\n",
       "      <td>0.905</td>\n",
       "      <td>0.825</td>\n",
       "      <td>0.805</td>\n",
       "      <td>0.895</td>\n",
       "    </tr>\n",
       "    <tr>\n",
       "      <th>200764</th>\n",
       "      <td>wikipediaTrain</td>\n",
       "      <td>spin</td>\n",
       "      <td>Football-themed stories were a staple of Briti...</td>\n",
       "      <td>1</td>\n",
       "      <td>0.830</td>\n",
       "      <td>0.830</td>\n",
       "      <td>0.875</td>\n",
       "      <td>0.935</td>\n",
       "    </tr>\n",
       "    <tr>\n",
       "      <th>200765</th>\n",
       "      <td>wikipediaTrain</td>\n",
       "      <td>spin</td>\n",
       "      <td>Roy of the Rovers initially showed up on 11 Se...</td>\n",
       "      <td>1</td>\n",
       "      <td>0.835</td>\n",
       "      <td>0.780</td>\n",
       "      <td>0.900</td>\n",
       "      <td>0.700</td>\n",
       "    </tr>\n",
       "    <tr>\n",
       "      <th>200766</th>\n",
       "      <td>wikipediaTrain</td>\n",
       "      <td>spin</td>\n",
       "      <td>The funny cartoon was revived in July 1997, pr...</td>\n",
       "      <td>1</td>\n",
       "      <td>0.850</td>\n",
       "      <td>0.825</td>\n",
       "      <td>0.775</td>\n",
       "      <td>0.725</td>\n",
       "    </tr>\n",
       "  </tbody>\n",
       "</table>\n",
       "<p>200767 rows × 8 columns</p>\n",
       "</div>"
      ],
      "text/plain": [
       "               dataset method  \\\n",
       "0       wikipediaTrain   spin   \n",
       "1       wikipediaTrain   spin   \n",
       "2       wikipediaTrain   spin   \n",
       "3       wikipediaTrain   spin   \n",
       "4       wikipediaTrain   spin   \n",
       "...                ...    ...   \n",
       "200762  wikipediaTrain   spin   \n",
       "200763  wikipediaTrain   spin   \n",
       "200764  wikipediaTrain   spin   \n",
       "200765  wikipediaTrain   spin   \n",
       "200766  wikipediaTrain   spin   \n",
       "\n",
       "                                                     text  label  SimCSE  \\\n",
       "0       3D graphics were created using the Nichimen N-...      0   0.160   \n",
       "1       Miyamoto's guiding design philosophy was to in...      0   0.170   \n",
       "2       \"Super Mario 64\" features more puzzles than ea...      0   0.075   \n",
       "3       \"Super Mario 64\" received widespread critical ...      0   0.080   \n",
       "4       The game has been praised in the gaming press,...      0   0.080   \n",
       "...                                                   ...    ...     ...   \n",
       "200762  A \"Roy of the Rovers\" PC amusement was dischar...      1   0.945   \n",
       "200763  On 29 February 2008 it was reported that Titan...      1   0.905   \n",
       "200764  Football-themed stories were a staple of Briti...      1   0.830   \n",
       "200765  Roy of the Rovers initially showed up on 11 Se...      1   0.835   \n",
       "200766  The funny cartoon was revived in July 1997, pr...      1   0.850   \n",
       "\n",
       "        SimCSE_roberta  DiffCSE  DiffCSE_roberta  \n",
       "0                0.080    0.090            0.095  \n",
       "1                0.215    0.100            0.155  \n",
       "2                0.150    0.110            0.065  \n",
       "3                0.115    0.040            0.060  \n",
       "4                0.070    0.050            0.090  \n",
       "...                ...      ...              ...  \n",
       "200762           0.935    0.995            0.970  \n",
       "200763           0.825    0.805            0.895  \n",
       "200764           0.830    0.875            0.935  \n",
       "200765           0.780    0.900            0.700  \n",
       "200766           0.825    0.775            0.725  \n",
       "\n",
       "[200767 rows x 8 columns]"
      ]
     },
     "execution_count": 5,
     "metadata": {},
     "output_type": "execute_result"
    }
   ],
   "source": [
    "dataset_train = pd.read_parquet(r'train_result.parquet', engine='fastparquet')\n",
    "dataset_train"
   ]
  },
  {
   "cell_type": "code",
   "execution_count": null,
   "id": "2314fc4b",
   "metadata": {},
   "outputs": [],
   "source": [
    "dataset_test['label'] = dataset_test['label'].astype(float)\n",
    "dataset_train['label'] = dataset_train['label'].astype(float)"
   ]
  },
  {
   "cell_type": "code",
   "execution_count": 7,
   "id": "1f6870d5",
   "metadata": {},
   "outputs": [],
   "source": [
    "dataset_train, dataset_eval, _, _ = train_test_split(dataset_train, dataset_train, test_size = 0.25,\n",
    "                                                      shuffle = True, random_state = 42)"
   ]
  },
  {
   "cell_type": "code",
   "execution_count": 8,
   "id": "eb2cba0a",
   "metadata": {},
   "outputs": [],
   "source": [
    "train_texts, train_labels = dataset_train['text'].tolist(),dataset_train['label'].tolist()\n",
    "test_texts, test_labels = dataset_test['text'].tolist(),dataset_test['label'].tolist()\n",
    "eval_texts, eval_labels = dataset_eval['text'].tolist(),dataset_eval['label'].tolist()"
   ]
  },
  {
   "cell_type": "code",
   "execution_count": 9,
   "id": "86b49b0b",
   "metadata": {},
   "outputs": [],
   "source": [
    "tokenizer = AutoTokenizer.from_pretrained(\"voidism/diffcse-bert-base-uncased-trans\")\n",
    "train_encodings = tokenizer(train_texts, return_tensors='pt',\n",
    "                padding='max_length',\n",
    "                max_length=512,\n",
    "                truncation=True)\n",
    "test_encodings = tokenizer(test_texts, return_tensors='pt',\n",
    "                padding='max_length',\n",
    "                max_length=512,\n",
    "                truncation=True)\n",
    "eval_encodings = tokenizer(eval_texts, return_tensors='pt',\n",
    "                padding='max_length',\n",
    "                max_length=512,\n",
    "                truncation=True)"
   ]
  },
  {
   "cell_type": "code",
   "execution_count": 10,
   "id": "de06420d",
   "metadata": {},
   "outputs": [],
   "source": [
    "class MyDataset(torch.utils.data.Dataset):\n",
    "    def __init__(self, encodings, labels):\n",
    "        self.encodings = encodings\n",
    "        self.labels = labels\n",
    "\n",
    "    def __getitem__(self, idx):\n",
    "        item = {key: torch.tensor(val[idx]) for key, val in self.encodings.items()}\n",
    "        item['labels'] = torch.tensor(self.labels[idx])\n",
    "        return item\n",
    "\n",
    "    def __len__(self):\n",
    "        return len(self.labels)"
   ]
  },
  {
   "cell_type": "code",
   "execution_count": 11,
   "id": "499f4728",
   "metadata": {},
   "outputs": [],
   "source": [
    "train_dataset = MyDataset(train_encodings, train_labels)\n",
    "test_dataset = MyDataset(test_encodings, test_labels)\n",
    "eval_dataset = MyDataset(eval_encodings, eval_labels)\n"
   ]
  },
  {
   "cell_type": "code",
   "execution_count": 12,
   "id": "68766a32",
   "metadata": {},
   "outputs": [],
   "source": [
    "optim_param = ['adafactor','adamw_torch']"
   ]
  },
  {
   "cell_type": "code",
   "execution_count": 13,
   "id": "5e8b9041",
   "metadata": {},
   "outputs": [
    {
     "name": "stderr",
     "output_type": "stream",
     "text": [
      "***** Running training *****\n",
      "  Num examples = 30\n",
      "  Num Epochs = 3\n",
      "  Instantaneous batch size per device = 8\n",
      "  Total train batch size (w. parallel, distributed & accumulation) = 8\n",
      "  Gradient Accumulation steps = 1\n",
      "  Total optimization steps = 12\n",
      "  Number of trainable parameters = 109483778\n",
      "C:\\Users\\Nikita\\AppData\\Local\\Temp\\ipykernel_17940\\3135598630.py:7: UserWarning: To copy construct from a tensor, it is recommended to use sourceTensor.clone().detach() or sourceTensor.clone().detach().requires_grad_(True), rather than torch.tensor(sourceTensor).\n",
      "  item = {key: torch.tensor(val[idx]) for key, val in self.encodings.items()}\n"
     ]
    },
    {
     "data": {
      "text/html": [
       "\n",
       "    <div>\n",
       "      \n",
       "      <progress value='12' max='12' style='width:300px; height:20px; vertical-align: middle;'></progress>\n",
       "      [12/12 04:23, Epoch 3/3]\n",
       "    </div>\n",
       "    <table border=\"1\" class=\"dataframe\">\n",
       "  <thead>\n",
       " <tr style=\"text-align: left;\">\n",
       "      <th>Epoch</th>\n",
       "      <th>Training Loss</th>\n",
       "      <th>Validation Loss</th>\n",
       "    </tr>\n",
       "  </thead>\n",
       "  <tbody>\n",
       "    <tr>\n",
       "      <td>1</td>\n",
       "      <td>No log</td>\n",
       "      <td>0.655607</td>\n",
       "    </tr>\n",
       "    <tr>\n",
       "      <td>2</td>\n",
       "      <td>No log</td>\n",
       "      <td>0.641093</td>\n",
       "    </tr>\n",
       "    <tr>\n",
       "      <td>3</td>\n",
       "      <td>No log</td>\n",
       "      <td>0.628939</td>\n",
       "    </tr>\n",
       "  </tbody>\n",
       "</table><p>"
      ],
      "text/plain": [
       "<IPython.core.display.HTML object>"
      ]
     },
     "metadata": {},
     "output_type": "display_data"
    },
    {
     "name": "stderr",
     "output_type": "stream",
     "text": [
      "***** Running Evaluation *****\n",
      "  Num examples = 10\n",
      "  Batch size = 8\n",
      "***** Running Evaluation *****\n",
      "  Num examples = 10\n",
      "  Batch size = 8\n",
      "***** Running Evaluation *****\n",
      "  Num examples = 10\n",
      "  Batch size = 8\n",
      "\n",
      "\n",
      "Training completed. Do not forget to share your model on huggingface.co/models =)\n",
      "\n",
      "\n",
      "***** Running Prediction *****\n",
      "  Num examples = 10\n",
      "  Batch size = 8\n"
     ]
    },
    {
     "data": {
      "text/html": [],
      "text/plain": [
       "<IPython.core.display.HTML object>"
      ]
     },
     "metadata": {},
     "output_type": "display_data"
    },
    {
     "name": "stderr",
     "output_type": "stream",
     "text": [
      "***** Running training *****\n",
      "  Num examples = 30\n",
      "  Num Epochs = 3\n",
      "  Instantaneous batch size per device = 8\n",
      "  Total train batch size (w. parallel, distributed & accumulation) = 8\n",
      "  Gradient Accumulation steps = 1\n",
      "  Total optimization steps = 12\n",
      "  Number of trainable parameters = 109483778\n",
      "C:\\Users\\Nikita\\AppData\\Local\\Temp\\ipykernel_17940\\3135598630.py:7: UserWarning: To copy construct from a tensor, it is recommended to use sourceTensor.clone().detach() or sourceTensor.clone().detach().requires_grad_(True), rather than torch.tensor(sourceTensor).\n",
      "  item = {key: torch.tensor(val[idx]) for key, val in self.encodings.items()}\n"
     ]
    },
    {
     "data": {
      "text/html": [
       "\n",
       "    <div>\n",
       "      \n",
       "      <progress value='12' max='12' style='width:300px; height:20px; vertical-align: middle;'></progress>\n",
       "      [12/12 04:34, Epoch 3/3]\n",
       "    </div>\n",
       "    <table border=\"1\" class=\"dataframe\">\n",
       "  <thead>\n",
       " <tr style=\"text-align: left;\">\n",
       "      <th>Epoch</th>\n",
       "      <th>Training Loss</th>\n",
       "      <th>Validation Loss</th>\n",
       "    </tr>\n",
       "  </thead>\n",
       "  <tbody>\n",
       "    <tr>\n",
       "      <td>1</td>\n",
       "      <td>No log</td>\n",
       "      <td>0.588656</td>\n",
       "    </tr>\n",
       "    <tr>\n",
       "      <td>2</td>\n",
       "      <td>No log</td>\n",
       "      <td>0.521057</td>\n",
       "    </tr>\n",
       "    <tr>\n",
       "      <td>3</td>\n",
       "      <td>No log</td>\n",
       "      <td>0.494219</td>\n",
       "    </tr>\n",
       "  </tbody>\n",
       "</table><p>"
      ],
      "text/plain": [
       "<IPython.core.display.HTML object>"
      ]
     },
     "metadata": {},
     "output_type": "display_data"
    },
    {
     "name": "stderr",
     "output_type": "stream",
     "text": [
      "***** Running Evaluation *****\n",
      "  Num examples = 10\n",
      "  Batch size = 8\n",
      "***** Running Evaluation *****\n",
      "  Num examples = 10\n",
      "  Batch size = 8\n",
      "***** Running Evaluation *****\n",
      "  Num examples = 10\n",
      "  Batch size = 8\n",
      "\n",
      "\n",
      "Training completed. Do not forget to share your model on huggingface.co/models =)\n",
      "\n",
      "\n",
      "***** Running Prediction *****\n",
      "  Num examples = 10\n",
      "  Batch size = 8\n"
     ]
    },
    {
     "data": {
      "text/html": [],
      "text/plain": [
       "<IPython.core.display.HTML object>"
      ]
     },
     "metadata": {},
     "output_type": "display_data"
    }
   ],
   "source": [
    "trainer = []\n",
    "result = []\n",
    "final_lst = []\n",
    "for opt in optim_param:\n",
    "    training_args.optim = opt\n",
    "    trainer += [Trainer(\n",
    "        model=model,\n",
    "        args=training_args,\n",
    "        train_dataset=train_dataset,\n",
    "        eval_dataset=eval_dataset\n",
    "    )]\n",
    "for i in range(len(trainer)):\n",
    "    trainer[i].train()\n",
    "    lst = []\n",
    "    result_test_pred = trainer[i].predict(eval_dataset)\n",
    "    for i in range(len(eval_dataset.labels)):\n",
    "        lst+=[scipy.special.expit(result_test_pred[0][i][0])]\n",
    "    final_lst+=[lst]\n",
    "    result += [pd.DataFrame(zip(eval_dataset.labels,lst),columns = ['true','pred'])]"
   ]
  },
  {
   "cell_type": "code",
   "execution_count": 14,
   "id": "bfbdcb92",
   "metadata": {},
   "outputs": [
    {
     "data": {
      "text/plain": [
       "1"
      ]
     },
     "execution_count": 14,
     "metadata": {},
     "output_type": "execute_result"
    }
   ],
   "source": [
    "res = []\n",
    "for i in range(len(result)):\n",
    "    res+=[roc_auc_score(result[i]['true'], result[i]['pred'])]\n",
    "max_value = max(res)\n",
    "max_index = res.index(max_value)\n",
    "max_index"
   ]
  },
  {
   "cell_type": "code",
   "execution_count": 17,
   "id": "f8c4eea4",
   "metadata": {},
   "outputs": [],
   "source": [
    "def find_model(optim_list,max_index):\n",
    "    i = 0\n",
    "    best_model = []\n",
    "    for num_1,opt in enumerate(optim_list):\n",
    "        print(i,opt)\n",
    "        if i == max_index:\n",
    "            best_model= [opt]\n",
    "            return best_model\n",
    "        else:\n",
    "            i+=1\n",
    "        "
   ]
  },
  {
   "cell_type": "code",
   "execution_count": 19,
   "id": "2264e655",
   "metadata": {},
   "outputs": [
    {
     "name": "stdout",
     "output_type": "stream",
     "text": [
      "0 adafactor\n",
      "1 adamw_torch\n"
     ]
    },
    {
     "data": {
      "text/plain": [
       "['adamw_torch']"
      ]
     },
     "execution_count": 19,
     "metadata": {},
     "output_type": "execute_result"
    }
   ],
   "source": [
    "best_model = find_model(optim_param,max_index)\n",
    "best_model"
   ]
  },
  {
   "cell_type": "code",
   "execution_count": 20,
   "id": "f696b516",
   "metadata": {},
   "outputs": [
    {
     "name": "stderr",
     "output_type": "stream",
     "text": [
      "***** Running Prediction *****\n",
      "  Num examples = 10\n",
      "  Batch size = 8\n",
      "C:\\Users\\Nikita\\AppData\\Local\\Temp\\ipykernel_17940\\3135598630.py:7: UserWarning: To copy construct from a tensor, it is recommended to use sourceTensor.clone().detach() or sourceTensor.clone().detach().requires_grad_(True), rather than torch.tensor(sourceTensor).\n",
      "  item = {key: torch.tensor(val[idx]) for key, val in self.encodings.items()}\n"
     ]
    },
    {
     "data": {
      "text/html": [],
      "text/plain": [
       "<IPython.core.display.HTML object>"
      ]
     },
     "metadata": {},
     "output_type": "display_data"
    }
   ],
   "source": [
    "result_test_pred = trainer[max_index].predict(test_dataset)"
   ]
  },
  {
   "cell_type": "code",
   "execution_count": 21,
   "id": "bedbdd1a",
   "metadata": {},
   "outputs": [
    {
     "data": {
      "text/html": [
       "<div>\n",
       "<style scoped>\n",
       "    .dataframe tbody tr th:only-of-type {\n",
       "        vertical-align: middle;\n",
       "    }\n",
       "\n",
       "    .dataframe tbody tr th {\n",
       "        vertical-align: top;\n",
       "    }\n",
       "\n",
       "    .dataframe thead th {\n",
       "        text-align: right;\n",
       "    }\n",
       "</style>\n",
       "<table border=\"1\" class=\"dataframe\">\n",
       "  <thead>\n",
       "    <tr style=\"text-align: right;\">\n",
       "      <th></th>\n",
       "      <th>true</th>\n",
       "      <th>pred</th>\n",
       "    </tr>\n",
       "  </thead>\n",
       "  <tbody>\n",
       "    <tr>\n",
       "      <th>0</th>\n",
       "      <td>1</td>\n",
       "      <td>0.699735</td>\n",
       "    </tr>\n",
       "    <tr>\n",
       "      <th>1</th>\n",
       "      <td>0</td>\n",
       "      <td>0.556847</td>\n",
       "    </tr>\n",
       "    <tr>\n",
       "      <th>2</th>\n",
       "      <td>0</td>\n",
       "      <td>0.672163</td>\n",
       "    </tr>\n",
       "    <tr>\n",
       "      <th>3</th>\n",
       "      <td>0</td>\n",
       "      <td>0.537906</td>\n",
       "    </tr>\n",
       "    <tr>\n",
       "      <th>4</th>\n",
       "      <td>1</td>\n",
       "      <td>0.787500</td>\n",
       "    </tr>\n",
       "    <tr>\n",
       "      <th>5</th>\n",
       "      <td>1</td>\n",
       "      <td>0.785912</td>\n",
       "    </tr>\n",
       "    <tr>\n",
       "      <th>6</th>\n",
       "      <td>1</td>\n",
       "      <td>0.751834</td>\n",
       "    </tr>\n",
       "    <tr>\n",
       "      <th>7</th>\n",
       "      <td>1</td>\n",
       "      <td>0.793084</td>\n",
       "    </tr>\n",
       "    <tr>\n",
       "      <th>8</th>\n",
       "      <td>1</td>\n",
       "      <td>0.767978</td>\n",
       "    </tr>\n",
       "    <tr>\n",
       "      <th>9</th>\n",
       "      <td>0</td>\n",
       "      <td>0.389406</td>\n",
       "    </tr>\n",
       "  </tbody>\n",
       "</table>\n",
       "</div>"
      ],
      "text/plain": [
       "   true      pred\n",
       "0     1  0.699735\n",
       "1     0  0.556847\n",
       "2     0  0.672163\n",
       "3     0  0.537906\n",
       "4     1  0.787500\n",
       "5     1  0.785912\n",
       "6     1  0.751834\n",
       "7     1  0.793084\n",
       "8     1  0.767978\n",
       "9     0  0.389406"
      ]
     },
     "execution_count": 21,
     "metadata": {},
     "output_type": "execute_result"
    }
   ],
   "source": [
    "lst = []\n",
    "for i in range(len(test_dataset.labels)):\n",
    "    lst+=[scipy.special.expit(result_test_pred[0][i][0])]\n",
    "final_res = pd.DataFrame(zip(test_dataset.labels,lst),columns = ['true','pred'])\n",
    "final_res"
   ]
  },
  {
   "cell_type": "code",
   "execution_count": 22,
   "id": "02e9c82b",
   "metadata": {},
   "outputs": [],
   "source": [
    "def roc(test_result_old):   \n",
    "    fpr, tpr, treshold = roc_curve(test_result_old['true'], test_result_old['pred'])\n",
    "    roc_auc = auc(fpr, tpr)\n",
    "    plt.plot(fpr, tpr,\n",
    "         label=f'ROC (area = %0.2f)' % roc_auc)\n",
    "    plt.plot([0, 1], [0, 1], color='navy', linestyle='--')\n",
    "    plt.xlim([0.0, 1.0])\n",
    "    plt.ylim([0.0, 1.05])\n",
    "    plt.xlabel('False Positive Rate')\n",
    "    plt.ylabel('True Positive Rate')\n",
    "    plt.title('Совмещенные ROC-кривые')\n",
    "    plt.legend(loc=\"lower right\")\n",
    "    plt.show()"
   ]
  },
  {
   "cell_type": "code",
   "execution_count": 23,
   "id": "be5e37ff",
   "metadata": {},
   "outputs": [
    {
     "data": {
      "image/png": "[encoded data removed]",
      "text/plain": [
       "<Figure size 640x480 with 1 Axes>"
      ]
     },
     "metadata": {},
     "output_type": "display_data"
    }
   ],
   "source": [
    "roc(final_res)"
   ]
  },
  {
   "cell_type": "code",
   "execution_count": 24,
   "id": "15b65a5c",
   "metadata": {},
   "outputs": [],
   "source": [
    "def confuns_matrix(train_rezalt_old):\n",
    "    print(f'f1')\n",
    "    print(f1_score(train_rezalt_old['true'].tolist(), [int(p>0.5) for p in train_rezalt_old['pred']], average='macro'))\n",
    "    sns.heatmap(metrics.confusion_matrix(train_rezalt_old['true'],[int(p>0.5) for p in train_rezalt_old['pred']]),annot=True,cmap=\"Blues\",square=True)\n",
    "    plt.ylabel(\"label\")\n",
    "    plt.xlabel(f\"\")\n",
    "    plt.title(f\"Confusion matrix\")\n",
    "    plt.show()"
   ]
  },
  {
   "cell_type": "code",
   "execution_count": 25,
   "id": "35dead55",
   "metadata": {},
   "outputs": [
    {
     "name": "stdout",
     "output_type": "stream",
     "text": [
      "f1\n",
      "0.6000000000000001\n"
     ]
    },
    {
     "data": {
      "image/png": "[encoded data removed]",
      "text/plain": [
       "<Figure size 640x480 with 2 Axes>"
      ]
     },
     "metadata": {},
     "output_type": "display_data"
    }
   ],
   "source": [
    "confuns_matrix(final_res)"
   ]
  },
  {
   "cell_type": "code",
   "execution_count": null,
   "id": "459ab36c",
   "metadata": {},
   "outputs": [],
   "source": []
  }
 ],
 "metadata": {
  "kernelspec": {
   "display_name": "Python 3 (ipykernel)",
   "language": "python",
   "name": "python3"
  },
  "language_info": {
   "codemirror_mode": {
    "name": "ipython",
    "version": 3
   },
   "file_extension": ".py",
   "mimetype": "text/x-python",
   "name": "python",
   "nbconvert_exporter": "python",
   "pygments_lexer": "ipython3",
   "version": "3.10.6"
  }
 },
 "nbformat": 4,
 "nbformat_minor": 5
}
