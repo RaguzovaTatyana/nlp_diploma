{
 "cells": [
  {
   "cell_type": "code",
   "execution_count": null,
   "id": "b2dae85f",
   "metadata": {},
   "outputs": [],
   "source": [
    "pip install -r ../requirements.txt"
   ]
  },
  {
   "cell_type": "code",
   "execution_count": 1,
   "id": "c23c9d12",
   "metadata": {},
   "outputs": [],
   "source": [
    "import pandas as pd\n",
    "from transformers import AutoModelForSequenceClassification\n",
    "import numpy as np\n",
    "import evaluate\n",
    "from transformers import TrainingArguments, Trainer,AutoTokenizer\n",
    "import torch\n",
    "from torch.utils.data import Dataset\n",
    "from sklearn.metrics import roc_auc_score,roc_curve, auc,f1_score\n",
    "from sklearn.model_selection import train_test_split\n",
    "from sklearn import metrics\n",
    "import matplotlib.pyplot as plt\n",
    "import seaborn as sns\n",
    "import scipy"
   ]
  },
  {
   "cell_type": "code",
   "execution_count": 48,
   "id": "8b16b8d5",
   "metadata": {},
   "outputs": [
    {
     "name": "stderr",
     "output_type": "stream",
     "text": [
      "loading configuration file config.json from cache at C:\\Users\\Nikita/.cache\\huggingface\\hub\\models--voidism--diffcse-bert-base-uncased-sts\\snapshots\\ea605f716bd57f97407640374487c2c9effc94af\\config.json\n",
      "Model config BertConfig {\n",
      "  \"_name_or_path\": \"voidism/diffcse-bert-base-uncased-sts\",\n",
      "  \"architectures\": [\n",
      "    \"BertModel\"\n",
      "  ],\n",
      "  \"attention_probs_dropout_prob\": 0.1,\n",
      "  \"classifier_dropout\": null,\n",
      "  \"gradient_checkpointing\": false,\n",
      "  \"hidden_act\": \"gelu\",\n",
      "  \"hidden_dropout_prob\": 0.1,\n",
      "  \"hidden_size\": 768,\n",
      "  \"id2label\": {\n",
      "    \"0\": \"LABEL_0\"\n",
      "  },\n",
      "  \"initializer_range\": 0.02,\n",
      "  \"intermediate_size\": 3072,\n",
      "  \"label2id\": {\n",
      "    \"LABEL_0\": 0\n",
      "  },\n",
      "  \"layer_norm_eps\": 1e-12,\n",
      "  \"max_position_embeddings\": 512,\n",
      "  \"model_type\": \"bert\",\n",
      "  \"num_attention_heads\": 12,\n",
      "  \"num_hidden_layers\": 12,\n",
      "  \"pad_token_id\": 0,\n",
      "  \"position_embedding_type\": \"absolute\",\n",
      "  \"transformers_version\": \"4.26.1\",\n",
      "  \"type_vocab_size\": 2,\n",
      "  \"use_cache\": true,\n",
      "  \"vocab_size\": 30522\n",
      "}\n",
      "\n",
      "loading weights file pytorch_model.bin from cache at C:\\Users\\Nikita/.cache\\huggingface\\hub\\models--voidism--diffcse-bert-base-uncased-sts\\snapshots\\ea605f716bd57f97407640374487c2c9effc94af\\pytorch_model.bin\n",
      "Some weights of the model checkpoint at voidism/diffcse-bert-base-uncased-sts were not used when initializing BertForSequenceClassification: ['aux_bert.encoder.layer.0.output.dense.bias', 'mlp.net.1.running_mean', 'aux_bert.encoder.layer.4.attention.self.key.weight', 'generator.distilbert.transformer.layer.0.ffn.lin1.weight', 'generator.distilbert.transformer.layer.0.output_layer_norm.bias', 'generator.distilbert.transformer.layer.1.attention.v_lin.bias', 'aux_bert.encoder.layer.8.attention.output.dense.bias', 'aux_bert.encoder.layer.3.output.dense.weight', 'generator.distilbert.transformer.layer.2.attention.v_lin.bias', 'aux_bert.encoder.layer.5.attention.self.key.bias', 'aux_bert.encoder.layer.3.attention.self.query.bias', 'aux_bert.encoder.layer.1.attention.self.value.bias', 'aux_bert.encoder.layer.0.attention.self.query.bias', 'generator.distilbert.transformer.layer.3.attention.k_lin.bias', 'generator.distilbert.embeddings.position_embeddings.weight', 'aux_bert.encoder.layer.4.attention.self.value.bias', 'aux_bert.embeddings.LayerNorm.weight', 'aux_bert.encoder.layer.7.attention.self.value.bias', 'aux_bert.encoder.layer.8.attention.output.LayerNorm.bias', 'generator.distilbert.transformer.layer.4.attention.v_lin.bias', 'mlp.net.1.running_var', 'aux_bert.encoder.layer.9.attention.output.LayerNorm.weight', 'generator.distilbert.transformer.layer.3.attention.out_lin.weight', 'generator.distilbert.transformer.layer.0.attention.k_lin.weight', 'aux_bert.encoder.layer.2.attention.output.dense.weight', 'generator.distilbert.transformer.layer.3.ffn.lin2.bias', 'generator.distilbert.transformer.layer.5.output_layer_norm.weight', 'aux_bert.encoder.layer.0.attention.self.key.weight', 'aux_bert.encoder.layer.5.attention.self.value.bias', 'aux_bert.encoder.layer.3.attention.self.key.weight', 'aux_bert.encoder.layer.8.output.LayerNorm.bias', 'lm_head.decoder.bias', 'aux_bert.encoder.layer.5.intermediate.dense.weight', 'aux_bert.encoder.layer.6.attention.self.value.weight', 'generator.distilbert.transformer.layer.4.attention.out_lin.weight', 'generator.distilbert.transformer.layer.5.sa_layer_norm.bias', 'aux_bert.encoder.layer.6.attention.output.dense.weight', 'generator.distilbert.transformer.layer.1.output_layer_norm.bias', 'aux_bert.encoder.layer.10.intermediate.dense.weight', 'aux_bert.encoder.layer.1.attention.self.key.bias', 'aux_bert.encoder.layer.7.intermediate.dense.weight', 'generator.distilbert.transformer.layer.3.ffn.lin1.weight', 'aux_bert.encoder.layer.8.attention.self.query.weight', 'aux_bert.encoder.layer.9.attention.self.query.weight', 'aux_bert.encoder.layer.11.attention.self.key.weight', 'generator.distilbert.embeddings.word_embeddings.weight', 'aux_bert.encoder.layer.0.attention.self.value.weight', 'generator.distilbert.transformer.layer.3.sa_layer_norm.bias', 'generator.distilbert.transformer.layer.0.attention.v_lin.weight', 'aux_bert.encoder.layer.8.attention.output.dense.weight', 'aux_bert.encoder.layer.7.output.LayerNorm.bias', 'aux_bert.encoder.layer.5.attention.output.dense.weight', 'lm_head.bias', 'aux_bert.encoder.layer.2.attention.self.value.bias', 'aux_bert.encoder.layer.9.attention.self.key.weight', 'aux_bert.encoder.layer.2.intermediate.dense.weight', 'aux_bert.encoder.layer.6.attention.output.dense.bias', 'aux_bert.encoder.layer.0.attention.self.query.weight', 'generator.distilbert.transformer.layer.0.ffn.lin2.weight', 'generator.distilbert.transformer.layer.1.ffn.lin1.weight', 'generator.distilbert.transformer.layer.4.ffn.lin2.weight', 'generator.distilbert.transformer.layer.0.attention.q_lin.weight', 'generator.vocab_projector.weight', 'aux_bert.encoder.layer.6.attention.self.query.bias', 'aux_bert.encoder.layer.1.attention.self.key.weight', 'generator.distilbert.transformer.layer.1.attention.v_lin.weight', 'generator.distilbert.transformer.layer.0.sa_layer_norm.bias', 'aux_bert.encoder.layer.8.output.dense.bias', 'lm_head.transform.LayerNorm.weight', 'aux_bert.encoder.layer.11.attention.output.dense.weight', 'generator.distilbert.transformer.layer.2.output_layer_norm.bias', 'aux_bert.encoder.layer.3.attention.output.dense.weight', 'aux_bert.encoder.layer.4.attention.self.value.weight', 'aux_bert.encoder.layer.5.attention.output.dense.bias', 'aux_bert.encoder.layer.10.intermediate.dense.bias', 'aux_bert.encoder.layer.9.intermediate.dense.weight', 'aux_bert.encoder.layer.11.output.LayerNorm.weight', 'aux_bert.encoder.layer.6.output.LayerNorm.bias', 'aux_bert.encoder.layer.10.attention.output.LayerNorm.bias', 'aux_bert.encoder.layer.1.attention.output.dense.weight', 'aux_bert.encoder.layer.3.output.dense.bias', 'aux_bert.encoder.layer.0.attention.output.LayerNorm.weight', 'aux_bert.encoder.layer.4.output.LayerNorm.weight', 'aux_bert.encoder.layer.5.output.dense.bias', 'generator.distilbert.transformer.layer.3.attention.out_lin.bias', 'aux_bert.encoder.layer.7.output.dense.weight', 'aux_bert.encoder.layer.4.attention.output.dense.weight', 'generator.distilbert.transformer.layer.0.output_layer_norm.weight', 'aux_bert.encoder.layer.3.attention.output.dense.bias', 'aux_bert.encoder.layer.1.output.dense.bias', 'lm_head.transform.dense.bias', 'generator.distilbert.transformer.layer.4.output_layer_norm.bias', 'generator.distilbert.transformer.layer.5.attention.k_lin.weight', 'aux_bert.encoder.layer.9.output.LayerNorm.weight', 'aux_bert.encoder.layer.9.attention.output.dense.bias', 'aux_bert.encoder.layer.1.output.dense.weight', 'aux_bert.encoder.layer.0.intermediate.dense.bias', 'generator.distilbert.transformer.layer.5.attention.q_lin.weight', 'aux_bert.encoder.layer.4.attention.output.LayerNorm.bias', 'generator.vocab_transform.bias', 'generator.vocab_transform.weight', 'aux_bert.encoder.layer.11.attention.self.query.weight', 'generator.distilbert.transformer.layer.0.attention.v_lin.bias', 'generator.distilbert.transformer.layer.3.attention.q_lin.weight', 'aux_bert.encoder.layer.5.attention.output.LayerNorm.weight', 'aux_bert.encoder.layer.5.attention.output.LayerNorm.bias', 'mlp.net.3.weight', 'aux_bert.encoder.layer.7.intermediate.dense.bias', 'generator.distilbert.transformer.layer.5.attention.q_lin.bias', 'aux_bert.encoder.layer.9.attention.output.dense.weight', 'generator.distilbert.transformer.layer.1.attention.q_lin.bias', 'generator.distilbert.transformer.layer.4.attention.out_lin.bias', 'aux_bert.encoder.layer.8.attention.self.query.bias', 'aux_bert.encoder.layer.11.attention.self.query.bias', 'aux_bert.encoder.layer.4.attention.self.key.bias', 'generator.distilbert.transformer.layer.4.ffn.lin1.bias', 'aux_bert.encoder.layer.6.attention.self.query.weight', 'generator.distilbert.transformer.layer.0.attention.out_lin.bias', 'aux_bert.encoder.layer.11.attention.output.LayerNorm.weight', 'aux_bert.encoder.layer.4.attention.output.LayerNorm.weight', 'generator.distilbert.transformer.layer.2.attention.q_lin.bias', 'aux_bert.encoder.layer.2.attention.output.dense.bias', 'aux_bert.encoder.layer.11.attention.output.dense.bias', 'aux_bert.encoder.layer.10.attention.self.value.weight', 'aux_bert.encoder.layer.5.output.dense.weight', 'aux_bert.encoder.layer.11.output.dense.bias', 'generator.distilbert.transformer.layer.0.sa_layer_norm.weight', 'generator.distilbert.transformer.layer.5.attention.out_lin.bias', 'generator.distilbert.transformer.layer.2.ffn.lin1.weight', 'aux_bert.encoder.layer.10.output.LayerNorm.bias', 'aux_bert.encoder.layer.2.attention.self.query.bias', 'aux_bert.encoder.layer.10.attention.self.key.bias', 'aux_bert.encoder.layer.2.attention.output.LayerNorm.weight', 'aux_bert.encoder.layer.8.output.dense.weight', 'generator.distilbert.transformer.layer.5.ffn.lin1.bias', 'aux_bert.encoder.layer.8.attention.self.key.weight', 'aux_bert.encoder.layer.5.intermediate.dense.bias', 'aux_bert.encoder.layer.7.output.dense.bias', 'generator.vocab_layer_norm.weight', 'generator.distilbert.transformer.layer.1.ffn.lin2.weight', 'generator.distilbert.transformer.layer.1.sa_layer_norm.bias', 'aux_bert.encoder.layer.0.output.LayerNorm.weight', 'aux_bert.encoder.layer.6.attention.output.LayerNorm.bias', 'aux_bert.encoder.layer.3.attention.output.LayerNorm.bias', 'generator.vocab_projector.bias', 'lm_head.transform.LayerNorm.bias', 'generator.distilbert.transformer.layer.2.output_layer_norm.weight', 'generator.distilbert.transformer.layer.4.output_layer_norm.weight', 'mlp.net.0.weight', 'mlp.net.4.num_batches_tracked', 'generator.distilbert.transformer.layer.3.attention.v_lin.weight', 'mlp.net.1.bias', 'aux_bert.encoder.layer.6.intermediate.dense.weight', 'aux_bert.encoder.layer.11.attention.self.value.bias', 'aux_bert.embeddings.position_embeddings.weight', 'aux_bert.encoder.layer.3.attention.self.value.weight', 'aux_bert.encoder.layer.10.attention.self.query.bias', 'aux_bert.encoder.layer.8.attention.self.key.bias', 'aux_bert.encoder.layer.3.attention.self.key.bias', 'generator.distilbert.transformer.layer.1.output_layer_norm.weight', 'aux_bert.encoder.layer.6.attention.self.value.bias', 'generator.distilbert.transformer.layer.3.attention.q_lin.bias', 'aux_bert.encoder.layer.7.attention.self.value.weight', 'aux_bert.encoder.layer.7.attention.output.dense.bias', 'aux_bert.encoder.layer.2.output.LayerNorm.bias', 'aux_bert.encoder.layer.10.output.LayerNorm.weight', 'aux_bert.encoder.layer.11.intermediate.dense.bias', 'aux_bert.encoder.layer.11.attention.self.key.bias', 'mlp.net.1.num_batches_tracked', 'aux_bert.encoder.layer.5.attention.self.query.weight', 'aux_bert.encoder.layer.9.intermediate.dense.bias', 'generator.distilbert.transformer.layer.3.ffn.lin2.weight', 'aux_bert.encoder.layer.3.intermediate.dense.weight', 'aux_bert.encoder.layer.0.output.dense.weight', 'aux_bert.encoder.layer.10.attention.self.value.bias', 'generator.distilbert.embeddings.LayerNorm.weight', 'generator.distilbert.transformer.layer.1.attention.out_lin.weight', 'aux_bert.encoder.layer.9.attention.output.LayerNorm.bias', 'aux_bert.encoder.layer.9.output.dense.bias', 'aux_bert.encoder.layer.2.attention.self.key.weight', 'aux_bert.encoder.layer.3.output.LayerNorm.bias', 'aux_bert.encoder.layer.4.intermediate.dense.weight', 'generator.distilbert.transformer.layer.5.ffn.lin2.weight', 'aux_bert.encoder.layer.7.attention.self.key.bias', 'aux_bert.encoder.layer.2.attention.self.value.weight', 'generator.distilbert.transformer.layer.0.attention.q_lin.bias', 'aux_bert.encoder.layer.6.attention.output.LayerNorm.weight', 'generator.distilbert.transformer.layer.5.attention.k_lin.bias', 'aux_bert.encoder.layer.1.output.LayerNorm.weight', 'aux_bert.encoder.layer.1.attention.output.dense.bias', 'generator.distilbert.transformer.layer.2.attention.k_lin.weight', 'aux_bert.encoder.layer.1.attention.output.LayerNorm.bias', 'aux_bert.encoder.layer.1.output.LayerNorm.bias', 'generator.distilbert.transformer.layer.4.sa_layer_norm.bias', 'generator.distilbert.transformer.layer.2.attention.v_lin.weight', 'aux_bert.encoder.layer.9.output.dense.weight', 'generator.distilbert.transformer.layer.1.ffn.lin2.bias', 'aux_bert.encoder.layer.1.attention.output.LayerNorm.weight', 'aux_bert.encoder.layer.6.output.dense.bias', 'aux_bert.encoder.layer.6.attention.self.key.bias', 'aux_bert.encoder.layer.11.attention.output.LayerNorm.bias', 'generator.distilbert.transformer.layer.3.sa_layer_norm.weight', 'aux_bert.encoder.layer.4.attention.self.query.weight', 'aux_bert.encoder.layer.2.attention.self.query.weight', 'aux_bert.encoder.layer.6.output.LayerNorm.weight', 'generator.distilbert.transformer.layer.1.attention.k_lin.bias', 'generator.distilbert.transformer.layer.5.ffn.lin2.bias', 'generator.distilbert.transformer.layer.1.attention.q_lin.weight', 'mlp.net.4.running_mean', 'generator.distilbert.transformer.layer.2.ffn.lin1.bias', 'aux_bert.encoder.layer.8.attention.self.value.bias', 'generator.distilbert.transformer.layer.4.attention.q_lin.weight', 'generator.distilbert.transformer.layer.4.attention.k_lin.bias', 'aux_bert.encoder.layer.3.attention.self.query.weight', 'generator.distilbert.transformer.layer.3.output_layer_norm.bias', 'aux_bert.encoder.layer.1.intermediate.dense.weight', 'aux_bert.encoder.layer.11.output.LayerNorm.bias', 'generator.distilbert.transformer.layer.1.sa_layer_norm.weight', 'generator.distilbert.transformer.layer.2.attention.out_lin.weight', 'aux_bert.encoder.layer.3.attention.self.value.bias', 'aux_bert.encoder.layer.8.intermediate.dense.weight', 'generator.distilbert.transformer.layer.0.ffn.lin1.bias', 'aux_bert.encoder.layer.9.output.LayerNorm.bias', 'aux_bert.encoder.layer.8.attention.self.value.weight', 'generator.distilbert.embeddings.LayerNorm.bias', 'generator.distilbert.transformer.layer.5.output_layer_norm.bias', 'aux_bert.encoder.layer.9.attention.self.query.bias', 'aux_bert.encoder.layer.7.attention.output.LayerNorm.bias', 'generator.distilbert.transformer.layer.4.ffn.lin1.weight', 'aux_bert.encoder.layer.5.attention.self.value.weight', 'aux_bert.encoder.layer.5.output.LayerNorm.weight', 'aux_bert.encoder.layer.0.attention.output.dense.weight', 'aux_bert.encoder.layer.10.output.dense.weight', 'generator.distilbert.transformer.layer.2.ffn.lin2.bias', 'aux_bert.encoder.layer.8.attention.output.LayerNorm.weight', 'aux_bert.encoder.layer.1.intermediate.dense.bias', 'generator.distilbert.transformer.layer.0.attention.k_lin.bias', 'aux_bert.encoder.layer.0.output.LayerNorm.bias', 'generator.distilbert.transformer.layer.0.attention.out_lin.weight', 'aux_bert.encoder.layer.2.output.dense.bias', 'aux_bert.encoder.layer.0.attention.self.value.bias', 'lm_head.transform.dense.weight', 'aux_bert.encoder.layer.4.output.dense.bias', 'aux_bert.encoder.layer.1.attention.self.query.weight', 'generator.distilbert.transformer.layer.4.attention.k_lin.weight', 'lm_head.decoder.weight', 'mlp.net.1.weight', 'generator.distilbert.transformer.layer.4.ffn.lin2.bias', 'generator.distilbert.transformer.layer.5.attention.out_lin.weight', 'aux_bert.encoder.layer.4.output.LayerNorm.bias', 'generator.distilbert.transformer.layer.1.attention.out_lin.bias', 'generator.distilbert.transformer.layer.2.attention.out_lin.bias', 'aux_bert.encoder.layer.4.output.dense.weight', 'aux_bert.encoder.layer.2.intermediate.dense.bias', 'aux_bert.encoder.layer.3.attention.output.LayerNorm.weight', 'aux_bert.embeddings.LayerNorm.bias', 'aux_bert.encoder.layer.3.output.LayerNorm.weight', 'aux_bert.encoder.layer.7.attention.output.LayerNorm.weight', 'aux_bert.encoder.layer.10.attention.output.dense.bias', 'aux_bert.encoder.layer.10.attention.output.LayerNorm.weight', 'generator.distilbert.transformer.layer.2.sa_layer_norm.weight', 'aux_bert.encoder.layer.0.attention.output.dense.bias', 'generator.distilbert.transformer.layer.5.attention.v_lin.bias', 'aux_bert.encoder.layer.1.attention.self.query.bias', 'generator.distilbert.transformer.layer.1.attention.k_lin.weight', 'aux_bert.encoder.layer.10.attention.self.query.weight', 'aux_bert.encoder.layer.8.output.LayerNorm.weight', 'aux_bert.encoder.layer.7.attention.self.key.weight', 'generator.distilbert.transformer.layer.3.attention.v_lin.bias', 'generator.distilbert.transformer.layer.5.ffn.lin1.weight', 'aux_bert.embeddings.position_ids', 'aux_bert.encoder.layer.5.attention.self.query.bias', 'aux_bert.encoder.layer.9.attention.self.key.bias', 'aux_bert.encoder.layer.8.intermediate.dense.bias', 'generator.vocab_layer_norm.bias', 'aux_bert.encoder.layer.7.attention.self.query.bias', 'aux_bert.encoder.layer.2.output.LayerNorm.weight', 'generator.distilbert.transformer.layer.2.ffn.lin2.weight', 'aux_bert.encoder.layer.1.attention.self.value.weight', 'generator.distilbert.transformer.layer.3.attention.k_lin.weight', 'aux_bert.encoder.layer.3.intermediate.dense.bias', 'aux_bert.encoder.layer.7.attention.self.query.weight', 'aux_bert.encoder.layer.11.output.dense.weight', 'generator.distilbert.transformer.layer.5.sa_layer_norm.weight', 'generator.distilbert.transformer.layer.4.attention.v_lin.weight', 'aux_bert.encoder.layer.11.intermediate.dense.weight', 'aux_bert.encoder.layer.7.attention.output.dense.weight', 'generator.distilbert.transformer.layer.4.sa_layer_norm.weight', 'mlp.net.4.running_var', 'aux_bert.encoder.layer.7.output.LayerNorm.weight', 'aux_bert.encoder.layer.10.attention.output.dense.weight', 'generator.distilbert.transformer.layer.2.sa_layer_norm.bias', 'aux_bert.encoder.layer.6.output.dense.weight', 'aux_bert.encoder.layer.4.intermediate.dense.bias', 'aux_bert.encoder.layer.4.attention.self.query.bias', 'aux_bert.encoder.layer.4.attention.output.dense.bias', 'aux_bert.embeddings.token_type_embeddings.weight', 'generator.distilbert.transformer.layer.5.attention.v_lin.weight', 'aux_bert.encoder.layer.0.attention.output.LayerNorm.bias', 'generator.distilbert.transformer.layer.4.attention.q_lin.bias', 'aux_bert.encoder.layer.2.attention.self.key.bias', 'aux_bert.encoder.layer.0.intermediate.dense.weight', 'aux_bert.encoder.layer.6.intermediate.dense.bias', 'generator.distilbert.transformer.layer.2.attention.k_lin.bias', 'aux_bert.embeddings.word_embeddings.weight', 'generator.distilbert.transformer.layer.0.ffn.lin2.bias', 'aux_bert.encoder.layer.0.attention.self.key.bias', 'aux_bert.encoder.layer.2.attention.output.LayerNorm.bias', 'aux_bert.encoder.layer.11.attention.self.value.weight', 'aux_bert.encoder.layer.10.output.dense.bias', 'aux_bert.encoder.layer.10.attention.self.key.weight', 'aux_bert.encoder.layer.5.output.LayerNorm.bias', 'aux_bert.encoder.layer.6.attention.self.key.weight', 'generator.distilbert.transformer.layer.3.ffn.lin1.bias', 'aux_bert.encoder.layer.9.attention.self.value.bias', 'generator.distilbert.transformer.layer.3.output_layer_norm.weight', 'aux_bert.encoder.layer.2.output.dense.weight', 'generator.distilbert.transformer.layer.1.ffn.lin1.bias', 'aux_bert.encoder.layer.5.attention.self.key.weight', 'aux_bert.encoder.layer.9.attention.self.value.weight', 'generator.distilbert.transformer.layer.2.attention.q_lin.weight']\n",
      "- This IS expected if you are initializing BertForSequenceClassification from the checkpoint of a model trained on another task or with another architecture (e.g. initializing a BertForSequenceClassification model from a BertForPreTraining model).\n",
      "- This IS NOT expected if you are initializing BertForSequenceClassification from the checkpoint of a model that you expect to be exactly identical (initializing a BertForSequenceClassification model from a BertForSequenceClassification model).\n"
     ]
    },
    {
     "name": "stderr",
     "output_type": "stream",
     "text": [
      "Some weights of BertForSequenceClassification were not initialized from the model checkpoint at voidism/diffcse-bert-base-uncased-sts and are newly initialized: ['bert.pooler.dense.weight', 'bert.pooler.dense.bias', 'classifier.weight', 'classifier.bias']\n",
      "You should probably TRAIN this model on a down-stream task to be able to use it for predictions and inference.\n",
      "PyTorch: setting up devices\n",
      "The default value for the training argument `--report_to` will change in v5 (from all installed integrations to none). In v5, you will need to use `--report_to all` to get the same behavior as now. You should start updating your code and make this info disappear :-).\n"
     ]
    }
   ],
   "source": [
    "model = AutoModelForSequenceClassification.from_pretrained(\"voidism/diffcse-bert-base-uncased-trans\", num_labels=1)\n",
    "metric = evaluate.load(\"accuracy\")\n",
    "training_args = TrainingArguments(output_dir=\"test_trainer\", evaluation_strategy=\"epoch\")"
   ]
  },
  {
   "cell_type": "code",
   "execution_count": 3,
   "id": "fa9db75f",
   "metadata": {},
   "outputs": [
    {
     "data": {
      "text/html": [
       "<div>\n",
       "<style scoped>\n",
       "    .dataframe tbody tr th:only-of-type {\n",
       "        vertical-align: middle;\n",
       "    }\n",
       "\n",
       "    .dataframe tbody tr th {\n",
       "        vertical-align: top;\n",
       "    }\n",
       "\n",
       "    .dataframe thead th {\n",
       "        text-align: right;\n",
       "    }\n",
       "</style>\n",
       "<table border=\"1\" class=\"dataframe\">\n",
       "  <thead>\n",
       "    <tr style=\"text-align: right;\">\n",
       "      <th></th>\n",
       "      <th>model</th>\n",
       "      <th>text</th>\n",
       "      <th>label</th>\n",
       "    </tr>\n",
       "  </thead>\n",
       "  <tbody>\n",
       "    <tr>\n",
       "      <th>0</th>\n",
       "      <td>finetuned</td>\n",
       "      <td>HOW TO MAKE: Mango-Glazed Turkey Breast\\nIngre...</td>\n",
       "      <td>0</td>\n",
       "    </tr>\n",
       "    <tr>\n",
       "      <th>1</th>\n",
       "      <td>davinci</td>\n",
       "      <td>\"Is she for real?That purse does *not* go with...</td>\n",
       "      <td>0</td>\n",
       "    </tr>\n",
       "    <tr>\n",
       "      <th>2</th>\n",
       "      <td>davinci</td>\n",
       "      <td>I think it was the waiting that really got to ...</td>\n",
       "      <td>0</td>\n",
       "    </tr>\n",
       "    <tr>\n",
       "      <th>3</th>\n",
       "      <td>gpt2-xl</td>\n",
       "      <td>New Yorkers have an amazing knack of creating ...</td>\n",
       "      <td>0</td>\n",
       "    </tr>\n",
       "    <tr>\n",
       "      <th>4</th>\n",
       "      <td>gpt2-xl</td>\n",
       "      <td>HOW TO MAKE: Easy Chicken Pot Pie\\nIngredients...</td>\n",
       "      <td>0</td>\n",
       "    </tr>\n",
       "    <tr>\n",
       "      <th>...</th>\n",
       "      <td>...</td>\n",
       "      <td>...</td>\n",
       "      <td>...</td>\n",
       "    </tr>\n",
       "    <tr>\n",
       "      <th>6899</th>\n",
       "      <td>gpt2-xl</td>\n",
       "      <td>HOW TO MAKE: Gibna With Tamatum or Cheese With...</td>\n",
       "      <td>0</td>\n",
       "    </tr>\n",
       "    <tr>\n",
       "      <th>6900</th>\n",
       "      <td>finetuned</td>\n",
       "      <td>HOW TO MAKE: Awesome Easy Marinade for Meat or...</td>\n",
       "      <td>0</td>\n",
       "    </tr>\n",
       "    <tr>\n",
       "      <th>6901</th>\n",
       "      <td>ctrl-nocode</td>\n",
       "      <td>\"Fifth Annual Message\" by President Theodore R...</td>\n",
       "      <td>0</td>\n",
       "    </tr>\n",
       "    <tr>\n",
       "      <th>6902</th>\n",
       "      <td>ctrl-Politics</td>\n",
       "      <td>\"Statement at the International American Confe...</td>\n",
       "      <td>0</td>\n",
       "    </tr>\n",
       "    <tr>\n",
       "      <th>6903</th>\n",
       "      <td>finetuned</td>\n",
       "      <td>HOW TO MAKE: Calas - Rice Fritters\\nIngredient...</td>\n",
       "      <td>0</td>\n",
       "    </tr>\n",
       "  </tbody>\n",
       "</table>\n",
       "<p>6904 rows × 3 columns</p>\n",
       "</div>"
      ],
      "text/plain": [
       "              model                                               text  label\n",
       "0         finetuned  HOW TO MAKE: Mango-Glazed Turkey Breast\\nIngre...      0\n",
       "1           davinci  \"Is she for real?That purse does *not* go with...      0\n",
       "2           davinci  I think it was the waiting that really got to ...      0\n",
       "3           gpt2-xl  New Yorkers have an amazing knack of creating ...      0\n",
       "4           gpt2-xl  HOW TO MAKE: Easy Chicken Pot Pie\\nIngredients...      0\n",
       "...             ...                                                ...    ...\n",
       "6899        gpt2-xl  HOW TO MAKE: Gibna With Tamatum or Cheese With...      0\n",
       "6900      finetuned  HOW TO MAKE: Awesome Easy Marinade for Meat or...      0\n",
       "6901    ctrl-nocode  \"Fifth Annual Message\" by President Theodore R...      0\n",
       "6902  ctrl-Politics  \"Statement at the International American Confe...      0\n",
       "6903      finetuned  HOW TO MAKE: Calas - Rice Fritters\\nIngredient...      0\n",
       "\n",
       "[6904 rows x 3 columns]"
      ]
     },
     "execution_count": 3,
     "metadata": {},
     "output_type": "execute_result"
    }
   ],
   "source": [
    "dataset_test = pd.read_parquet(r'test_result_roft.parquet', engine='fastparquet')\n",
    "dataset_test"
   ]
  },
  {
   "cell_type": "code",
   "execution_count": 4,
   "id": "9a208229",
   "metadata": {},
   "outputs": [
    {
     "data": {
      "text/html": [
       "<div>\n",
       "<style scoped>\n",
       "    .dataframe tbody tr th:only-of-type {\n",
       "        vertical-align: middle;\n",
       "    }\n",
       "\n",
       "    .dataframe tbody tr th {\n",
       "        vertical-align: top;\n",
       "    }\n",
       "\n",
       "    .dataframe thead th {\n",
       "        text-align: right;\n",
       "    }\n",
       "</style>\n",
       "<table border=\"1\" class=\"dataframe\">\n",
       "  <thead>\n",
       "    <tr style=\"text-align: right;\">\n",
       "      <th></th>\n",
       "      <th>model</th>\n",
       "      <th>text</th>\n",
       "      <th>label</th>\n",
       "    </tr>\n",
       "  </thead>\n",
       "  <tbody>\n",
       "    <tr>\n",
       "      <th>0</th>\n",
       "      <td>gpt2-xl</td>\n",
       "      <td>WHEN it comes to visions of what New Haven par...</td>\n",
       "      <td>0</td>\n",
       "    </tr>\n",
       "    <tr>\n",
       "      <th>1</th>\n",
       "      <td>finetuned</td>\n",
       "      <td>HOW TO MAKE: Breakfast Burrito (Like Mc Donald...</td>\n",
       "      <td>0</td>\n",
       "    </tr>\n",
       "    <tr>\n",
       "      <th>2</th>\n",
       "      <td>finetuned</td>\n",
       "      <td>HOW TO MAKE: Hot Banana Creme Brulee\\nIngredie...</td>\n",
       "      <td>0</td>\n",
       "    </tr>\n",
       "    <tr>\n",
       "      <th>3</th>\n",
       "      <td>davinci</td>\n",
       "      <td>HOW TO MAKE: Howard's Failsafe Chicken Pasta\\n...</td>\n",
       "      <td>0</td>\n",
       "    </tr>\n",
       "    <tr>\n",
       "      <th>4</th>\n",
       "      <td>finetuned</td>\n",
       "      <td>HOW TO MAKE: Roast Leg of Lamb with Red Wine S...</td>\n",
       "      <td>0</td>\n",
       "    </tr>\n",
       "    <tr>\n",
       "      <th>...</th>\n",
       "      <td>...</td>\n",
       "      <td>...</td>\n",
       "      <td>...</td>\n",
       "    </tr>\n",
       "    <tr>\n",
       "      <th>20705</th>\n",
       "      <td>davinci</td>\n",
       "      <td>NATO's plan to airlift 100,000 desperate refug...</td>\n",
       "      <td>0</td>\n",
       "    </tr>\n",
       "    <tr>\n",
       "      <th>20706</th>\n",
       "      <td>gpt2-xl</td>\n",
       "      <td>Amer Hamedi's family has had a bakery in Tripo...</td>\n",
       "      <td>0</td>\n",
       "    </tr>\n",
       "    <tr>\n",
       "      <th>20707</th>\n",
       "      <td>finetuned</td>\n",
       "      <td>HOW TO MAKE: Orzo-Portabella Casserole\\nIngred...</td>\n",
       "      <td>0</td>\n",
       "    </tr>\n",
       "    <tr>\n",
       "      <th>20708</th>\n",
       "      <td>ctrl-Politics</td>\n",
       "      <td>\"Statement on the Resumption of Bombing in Nor...</td>\n",
       "      <td>0</td>\n",
       "    </tr>\n",
       "    <tr>\n",
       "      <th>20709</th>\n",
       "      <td>davinci</td>\n",
       "      <td>The Banker puffed noxious clouds of cigar smok...</td>\n",
       "      <td>0</td>\n",
       "    </tr>\n",
       "  </tbody>\n",
       "</table>\n",
       "<p>20710 rows × 3 columns</p>\n",
       "</div>"
      ],
      "text/plain": [
       "               model                                               text  label\n",
       "0            gpt2-xl  WHEN it comes to visions of what New Haven par...      0\n",
       "1          finetuned  HOW TO MAKE: Breakfast Burrito (Like Mc Donald...      0\n",
       "2          finetuned  HOW TO MAKE: Hot Banana Creme Brulee\\nIngredie...      0\n",
       "3            davinci  HOW TO MAKE: Howard's Failsafe Chicken Pasta\\n...      0\n",
       "4          finetuned  HOW TO MAKE: Roast Leg of Lamb with Red Wine S...      0\n",
       "...              ...                                                ...    ...\n",
       "20705        davinci  NATO's plan to airlift 100,000 desperate refug...      0\n",
       "20706        gpt2-xl  Amer Hamedi's family has had a bakery in Tripo...      0\n",
       "20707      finetuned  HOW TO MAKE: Orzo-Portabella Casserole\\nIngred...      0\n",
       "20708  ctrl-Politics  \"Statement on the Resumption of Bombing in Nor...      0\n",
       "20709        davinci  The Banker puffed noxious clouds of cigar smok...      0\n",
       "\n",
       "[20710 rows x 3 columns]"
      ]
     },
     "execution_count": 4,
     "metadata": {},
     "output_type": "execute_result"
    }
   ],
   "source": [
    "dataset_train = pd.read_parquet(r'train_result_roft.parquet', engine='fastparquet')\n",
    "dataset_train"
   ]
  },
  {
   "cell_type": "code",
   "execution_count": 51,
   "id": "1f6870d5",
   "metadata": {},
   "outputs": [],
   "source": [
    "dataset_train, dataset_eval, _, _ = train_test_split(dataset_train, dataset_train, test_size = 0.25,\n",
    "                                                      shuffle = True, random_state = 42)"
   ]
  },
  {
   "cell_type": "code",
   "execution_count": 6,
   "id": "0acd8757",
   "metadata": {},
   "outputs": [],
   "source": [
    "dataset_test['label'] = dataset_test['label'].astype(float)\n",
    "dataset_train['label'] = dataset_train['label'].astype(float)\n",
    "dataset_eval['label'] = dataset_eval['label'].astype(float)"
   ]
  },
  {
   "cell_type": "code",
   "execution_count": 7,
   "id": "eb2cba0a",
   "metadata": {},
   "outputs": [],
   "source": [
    "train_texts, train_labels = dataset_train['text'].tolist(),dataset_train['label'].tolist()\n",
    "test_texts, test_labels = dataset_test['text'].tolist(),dataset_test['label'].tolist()\n",
    "eval_texts, eval_labels = dataset_eval['text'].tolist(),dataset_eval['label'].tolist()"
   ]
  },
  {
   "cell_type": "code",
   "execution_count": 8,
   "id": "86b49b0b",
   "metadata": {},
   "outputs": [],
   "source": [
    "tokenizer = AutoTokenizer.from_pretrained(\"voidism/diffcse-bert-base-uncased-trans\")\n",
    "train_encodings = tokenizer(train_texts, return_tensors='pt',\n",
    "                padding='max_length',\n",
    "                max_length=512,\n",
    "                truncation=True)\n",
    "test_encodings = tokenizer(test_texts, return_tensors='pt',\n",
    "                padding='max_length',\n",
    "                max_length=512,\n",
    "                truncation=True)\n",
    "eval_encodings = tokenizer(eval_texts, return_tensors='pt',\n",
    "                padding='max_length',\n",
    "                max_length=512,\n",
    "                truncation=True)"
   ]
  },
  {
   "cell_type": "code",
   "execution_count": null,
   "id": "3e49d162",
   "metadata": {},
   "outputs": [],
   "source": []
  },
  {
   "cell_type": "code",
   "execution_count": 9,
   "id": "de06420d",
   "metadata": {},
   "outputs": [],
   "source": [
    "class MyDataset(torch.utils.data.Dataset):\n",
    "    def __init__(self, encodings, labels):\n",
    "        self.encodings = encodings\n",
    "        self.labels = labels\n",
    "\n",
    "    def __getitem__(self, idx):\n",
    "        item = {key: torch.tensor(val[idx]) for key, val in self.encodings.items()}\n",
    "        item['labels'] = torch.tensor(self.labels[idx])\n",
    "        return item\n",
    "\n",
    "    def __len__(self):\n",
    "        return len(self.labels)"
   ]
  },
  {
   "cell_type": "code",
   "execution_count": 10,
   "id": "499f4728",
   "metadata": {},
   "outputs": [],
   "source": [
    "train_dataset = MyDataset(train_encodings, train_labels)\n",
    "test_dataset = MyDataset(test_encodings, test_labels)\n",
    "eval_dataset = MyDataset(eval_encodings, eval_labels)\n"
   ]
  },
  {
   "cell_type": "code",
   "execution_count": null,
   "id": "68766a32",
   "metadata": {},
   "outputs": [],
   "source": [
    "learning_rate_param = [i/1000 for i in range(1, 50, 10)]\n",
    "optim_param = ['adafactor', 'adamw_torch']"
   ]
  },
  {
   "cell_type": "code",
   "execution_count": 11,
   "id": "5e8b9041",
   "metadata": {},
   "outputs": [
    {
     "name": "stderr",
     "output_type": "stream",
     "text": [
      "C:\\Users\\Nikita\\AppData\\Roaming\\Python\\Python38\\site-packages\\transformers\\optimization.py:306: FutureWarning: This implementation of AdamW is deprecated and will be removed in a future version. Use the PyTorch implementation torch.optim.AdamW instead, or set `no_deprecation_warning=True` to disable this warning\n",
      "  warnings.warn(\n",
      "***** Running training *****\n",
      "  Num examples = 10\n",
      "  Num Epochs = 3\n",
      "  Instantaneous batch size per device = 8\n",
      "  Total train batch size (w. parallel, distributed & accumulation) = 8\n",
      "  Gradient Accumulation steps = 1\n",
      "  Total optimization steps = 6\n",
      "  Number of trainable parameters = 109483009\n"
     ]
    },
    {
     "name": "stdout",
     "output_type": "stream",
     "text": [
      "0.005\n",
      "0.005\n",
      "0.05\n",
      "0.05\n"
     ]
    },
    {
     "name": "stderr",
     "output_type": "stream",
     "text": [
      "C:\\Users\\Nikita\\AppData\\Local\\Temp\\ipykernel_10584\\3135598630.py:7: UserWarning: To copy construct from a tensor, it is recommended to use sourceTensor.clone().detach() or sourceTensor.clone().detach().requires_grad_(True), rather than torch.tensor(sourceTensor).\n",
      "  item = {key: torch.tensor(val[idx]) for key, val in self.encodings.items()}\n"
     ]
    },
    {
     "data": {
      "text/html": [
       "\n",
       "    <div>\n",
       "      \n",
       "      <progress value='6' max='6' style='width:300px; height:20px; vertical-align: middle;'></progress>\n",
       "      [6/6 00:58, Epoch 3/3]\n",
       "    </div>\n",
       "    <table border=\"1\" class=\"dataframe\">\n",
       "  <thead>\n",
       " <tr style=\"text-align: left;\">\n",
       "      <th>Epoch</th>\n",
       "      <th>Training Loss</th>\n",
       "      <th>Validation Loss</th>\n",
       "    </tr>\n",
       "  </thead>\n",
       "  <tbody>\n",
       "    <tr>\n",
       "      <td>1</td>\n",
       "      <td>No log</td>\n",
       "      <td>461.545990</td>\n",
       "    </tr>\n",
       "    <tr>\n",
       "      <td>2</td>\n",
       "      <td>No log</td>\n",
       "      <td>160.761871</td>\n",
       "    </tr>\n",
       "    <tr>\n",
       "      <td>3</td>\n",
       "      <td>No log</td>\n",
       "      <td>25.197355</td>\n",
       "    </tr>\n",
       "  </tbody>\n",
       "</table><p>"
      ],
      "text/plain": [
       "<IPython.core.display.HTML object>"
      ]
     },
     "metadata": {},
     "output_type": "display_data"
    },
    {
     "name": "stderr",
     "output_type": "stream",
     "text": [
      "***** Running Evaluation *****\n",
      "  Num examples = 10\n",
      "  Batch size = 8\n",
      "***** Running Evaluation *****\n",
      "  Num examples = 10\n",
      "  Batch size = 8\n",
      "***** Running Evaluation *****\n",
      "  Num examples = 10\n",
      "  Batch size = 8\n",
      "\n",
      "\n",
      "Training completed. Do not forget to share your model on huggingface.co/models =)\n",
      "\n",
      "\n",
      "***** Running Prediction *****\n",
      "  Num examples = 10\n",
      "  Batch size = 8\n"
     ]
    },
    {
     "data": {
      "text/html": [],
      "text/plain": [
       "<IPython.core.display.HTML object>"
      ]
     },
     "metadata": {},
     "output_type": "display_data"
    },
    {
     "name": "stderr",
     "output_type": "stream",
     "text": [
      "C:\\Users\\Nikita\\AppData\\Roaming\\Python\\Python38\\site-packages\\transformers\\optimization.py:306: FutureWarning: This implementation of AdamW is deprecated and will be removed in a future version. Use the PyTorch implementation torch.optim.AdamW instead, or set `no_deprecation_warning=True` to disable this warning\n",
      "  warnings.warn(\n",
      "***** Running training *****\n",
      "  Num examples = 10\n",
      "  Num Epochs = 3\n",
      "  Instantaneous batch size per device = 8\n",
      "  Total train batch size (w. parallel, distributed & accumulation) = 8\n",
      "  Gradient Accumulation steps = 1\n",
      "  Total optimization steps = 6\n",
      "  Number of trainable parameters = 109483009\n",
      "C:\\Users\\Nikita\\AppData\\Local\\Temp\\ipykernel_10584\\3135598630.py:7: UserWarning: To copy construct from a tensor, it is recommended to use sourceTensor.clone().detach() or sourceTensor.clone().detach().requires_grad_(True), rather than torch.tensor(sourceTensor).\n",
      "  item = {key: torch.tensor(val[idx]) for key, val in self.encodings.items()}\n"
     ]
    },
    {
     "data": {
      "text/html": [
       "\n",
       "    <div>\n",
       "      \n",
       "      <progress value='6' max='6' style='width:300px; height:20px; vertical-align: middle;'></progress>\n",
       "      [6/6 01:16, Epoch 3/3]\n",
       "    </div>\n",
       "    <table border=\"1\" class=\"dataframe\">\n",
       "  <thead>\n",
       " <tr style=\"text-align: left;\">\n",
       "      <th>Epoch</th>\n",
       "      <th>Training Loss</th>\n",
       "      <th>Validation Loss</th>\n",
       "    </tr>\n",
       "  </thead>\n",
       "  <tbody>\n",
       "    <tr>\n",
       "      <td>1</td>\n",
       "      <td>No log</td>\n",
       "      <td>23.139469</td>\n",
       "    </tr>\n",
       "    <tr>\n",
       "      <td>2</td>\n",
       "      <td>No log</td>\n",
       "      <td>1.141791</td>\n",
       "    </tr>\n",
       "    <tr>\n",
       "      <td>3</td>\n",
       "      <td>No log</td>\n",
       "      <td>2.112381</td>\n",
       "    </tr>\n",
       "  </tbody>\n",
       "</table><p>"
      ],
      "text/plain": [
       "<IPython.core.display.HTML object>"
      ]
     },
     "metadata": {},
     "output_type": "display_data"
    },
    {
     "name": "stderr",
     "output_type": "stream",
     "text": [
      "***** Running Evaluation *****\n",
      "  Num examples = 10\n",
      "  Batch size = 8\n",
      "***** Running Evaluation *****\n",
      "  Num examples = 10\n",
      "  Batch size = 8\n",
      "***** Running Evaluation *****\n",
      "  Num examples = 10\n",
      "  Batch size = 8\n",
      "\n",
      "\n",
      "Training completed. Do not forget to share your model on huggingface.co/models =)\n",
      "\n",
      "\n",
      "***** Running Prediction *****\n",
      "  Num examples = 10\n",
      "  Batch size = 8\n"
     ]
    },
    {
     "data": {
      "text/html": [],
      "text/plain": [
       "<IPython.core.display.HTML object>"
      ]
     },
     "metadata": {},
     "output_type": "display_data"
    },
    {
     "name": "stderr",
     "output_type": "stream",
     "text": [
      "C:\\Users\\Nikita\\AppData\\Roaming\\Python\\Python38\\site-packages\\transformers\\optimization.py:306: FutureWarning: This implementation of AdamW is deprecated and will be removed in a future version. Use the PyTorch implementation torch.optim.AdamW instead, or set `no_deprecation_warning=True` to disable this warning\n",
      "  warnings.warn(\n",
      "***** Running training *****\n",
      "  Num examples = 10\n",
      "  Num Epochs = 3\n",
      "  Instantaneous batch size per device = 8\n",
      "  Total train batch size (w. parallel, distributed & accumulation) = 8\n",
      "  Gradient Accumulation steps = 1\n",
      "  Total optimization steps = 6\n",
      "  Number of trainable parameters = 109483009\n",
      "C:\\Users\\Nikita\\AppData\\Local\\Temp\\ipykernel_10584\\3135598630.py:7: UserWarning: To copy construct from a tensor, it is recommended to use sourceTensor.clone().detach() or sourceTensor.clone().detach().requires_grad_(True), rather than torch.tensor(sourceTensor).\n",
      "  item = {key: torch.tensor(val[idx]) for key, val in self.encodings.items()}\n"
     ]
    },
    {
     "data": {
      "text/html": [
       "\n",
       "    <div>\n",
       "      \n",
       "      <progress value='6' max='6' style='width:300px; height:20px; vertical-align: middle;'></progress>\n",
       "      [6/6 01:16, Epoch 3/3]\n",
       "    </div>\n",
       "    <table border=\"1\" class=\"dataframe\">\n",
       "  <thead>\n",
       " <tr style=\"text-align: left;\">\n",
       "      <th>Epoch</th>\n",
       "      <th>Training Loss</th>\n",
       "      <th>Validation Loss</th>\n",
       "    </tr>\n",
       "  </thead>\n",
       "  <tbody>\n",
       "    <tr>\n",
       "      <td>1</td>\n",
       "      <td>No log</td>\n",
       "      <td>538.655457</td>\n",
       "    </tr>\n",
       "    <tr>\n",
       "      <td>2</td>\n",
       "      <td>No log</td>\n",
       "      <td>1.181898</td>\n",
       "    </tr>\n",
       "    <tr>\n",
       "      <td>3</td>\n",
       "      <td>No log</td>\n",
       "      <td>94.362862</td>\n",
       "    </tr>\n",
       "  </tbody>\n",
       "</table><p>"
      ],
      "text/plain": [
       "<IPython.core.display.HTML object>"
      ]
     },
     "metadata": {},
     "output_type": "display_data"
    },
    {
     "name": "stderr",
     "output_type": "stream",
     "text": [
      "***** Running Evaluation *****\n",
      "  Num examples = 10\n",
      "  Batch size = 8\n",
      "***** Running Evaluation *****\n",
      "  Num examples = 10\n",
      "  Batch size = 8\n",
      "***** Running Evaluation *****\n",
      "  Num examples = 10\n",
      "  Batch size = 8\n",
      "\n",
      "\n",
      "Training completed. Do not forget to share your model on huggingface.co/models =)\n",
      "\n",
      "\n",
      "***** Running Prediction *****\n",
      "  Num examples = 10\n",
      "  Batch size = 8\n"
     ]
    },
    {
     "data": {
      "text/html": [],
      "text/plain": [
       "<IPython.core.display.HTML object>"
      ]
     },
     "metadata": {},
     "output_type": "display_data"
    },
    {
     "name": "stderr",
     "output_type": "stream",
     "text": [
      "C:\\Users\\Nikita\\AppData\\Roaming\\Python\\Python38\\site-packages\\transformers\\optimization.py:306: FutureWarning: This implementation of AdamW is deprecated and will be removed in a future version. Use the PyTorch implementation torch.optim.AdamW instead, or set `no_deprecation_warning=True` to disable this warning\n",
      "  warnings.warn(\n",
      "***** Running training *****\n",
      "  Num examples = 10\n",
      "  Num Epochs = 3\n",
      "  Instantaneous batch size per device = 8\n",
      "  Total train batch size (w. parallel, distributed & accumulation) = 8\n",
      "  Gradient Accumulation steps = 1\n",
      "  Total optimization steps = 6\n",
      "  Number of trainable parameters = 109483009\n",
      "C:\\Users\\Nikita\\AppData\\Local\\Temp\\ipykernel_10584\\3135598630.py:7: UserWarning: To copy construct from a tensor, it is recommended to use sourceTensor.clone().detach() or sourceTensor.clone().detach().requires_grad_(True), rather than torch.tensor(sourceTensor).\n",
      "  item = {key: torch.tensor(val[idx]) for key, val in self.encodings.items()}\n"
     ]
    },
    {
     "data": {
      "text/html": [
       "\n",
       "    <div>\n",
       "      \n",
       "      <progress value='6' max='6' style='width:300px; height:20px; vertical-align: middle;'></progress>\n",
       "      [6/6 01:20, Epoch 3/3]\n",
       "    </div>\n",
       "    <table border=\"1\" class=\"dataframe\">\n",
       "  <thead>\n",
       " <tr style=\"text-align: left;\">\n",
       "      <th>Epoch</th>\n",
       "      <th>Training Loss</th>\n",
       "      <th>Validation Loss</th>\n",
       "    </tr>\n",
       "  </thead>\n",
       "  <tbody>\n",
       "    <tr>\n",
       "      <td>1</td>\n",
       "      <td>No log</td>\n",
       "      <td>773.199768</td>\n",
       "    </tr>\n",
       "    <tr>\n",
       "      <td>2</td>\n",
       "      <td>No log</td>\n",
       "      <td>49.386242</td>\n",
       "    </tr>\n",
       "    <tr>\n",
       "      <td>3</td>\n",
       "      <td>No log</td>\n",
       "      <td>13.184384</td>\n",
       "    </tr>\n",
       "  </tbody>\n",
       "</table><p>"
      ],
      "text/plain": [
       "<IPython.core.display.HTML object>"
      ]
     },
     "metadata": {},
     "output_type": "display_data"
    },
    {
     "name": "stderr",
     "output_type": "stream",
     "text": [
      "***** Running Evaluation *****\n",
      "  Num examples = 10\n",
      "  Batch size = 8\n",
      "***** Running Evaluation *****\n",
      "  Num examples = 10\n",
      "  Batch size = 8\n",
      "***** Running Evaluation *****\n",
      "  Num examples = 10\n",
      "  Batch size = 8\n",
      "\n",
      "\n",
      "Training completed. Do not forget to share your model on huggingface.co/models =)\n",
      "\n",
      "\n",
      "***** Running Prediction *****\n",
      "  Num examples = 10\n",
      "  Batch size = 8\n"
     ]
    },
    {
     "data": {
      "text/html": [],
      "text/plain": [
       "<IPython.core.display.HTML object>"
      ]
     },
     "metadata": {},
     "output_type": "display_data"
    }
   ],
   "source": [
    "trainer = []\n",
    "result = []\n",
    "final_lst = []\n",
    "for lr in learning_rate_param:\n",
    "    for opt in optim_param:\n",
    "        print(lr)\n",
    "        training_args.learning_rate = lr\n",
    "        training_args.optim = opt\n",
    "        trainer += [Trainer(\n",
    "            model=model,\n",
    "            args=training_args,\n",
    "            train_dataset=train_dataset,\n",
    "            eval_dataset=eval_dataset\n",
    "        )]\n",
    "for i in range(len(trainer)):\n",
    "    trainer[i].train()\n",
    "    lst = []\n",
    "    result_test_pred = trainer[i].predict(eval_dataset)\n",
    "    for i in range(len(eval_dataset.labels)):\n",
    "        lst+=[scipy.special.expit(result_test_pred[0][i][0])]\n",
    "    final_lst+=[lst]\n",
    "    result += [pd.DataFrame(zip(eval_dataset.labels,lst),columns = ['true','pred'])]"
   ]
  },
  {
   "cell_type": "code",
   "execution_count": 12,
   "id": "bfbdcb92",
   "metadata": {},
   "outputs": [
    {
     "data": {
      "text/plain": [
       "0"
      ]
     },
     "execution_count": 12,
     "metadata": {},
     "output_type": "execute_result"
    }
   ],
   "source": [
    "res = []\n",
    "for i in range(len(result)):\n",
    "    res+=[roc_auc_score(result[i]['true'], result[i]['pred'])]\n",
    "max_value = max(res)\n",
    "max_index = res.index(max_value)\n",
    "max_index"
   ]
  },
  {
   "cell_type": "code",
   "execution_count": 13,
   "id": "f8c4eea4",
   "metadata": {},
   "outputs": [],
   "source": [
    "def find_model(lr_list,optim_list,max_index):\n",
    "    i = 0\n",
    "    best_model = []\n",
    "    for num,lr in enumerate(lr_list):#,0.1]:\n",
    "        for num_1,opt in enumerate(optim_list):\n",
    "            print(i,lr,opt)\n",
    "            if i == max_index:\n",
    "                best_model= [lr,opt]\n",
    "                return best_model\n",
    "            else:\n",
    "                i+=1\n",
    "        "
   ]
  },
  {
   "cell_type": "code",
   "execution_count": 14,
   "id": "2264e655",
   "metadata": {},
   "outputs": [
    {
     "name": "stdout",
     "output_type": "stream",
     "text": [
      "0 0.005 adafactor\n",
      "true\n"
     ]
    },
    {
     "data": {
      "text/plain": [
       "[0.005, 'adafactor']"
      ]
     },
     "execution_count": 14,
     "metadata": {},
     "output_type": "execute_result"
    }
   ],
   "source": [
    "best_model = find_model(learning_rate_param,optim_param,max_index)\n",
    "best_model"
   ]
  },
  {
   "cell_type": "code",
   "execution_count": 15,
   "id": "f696b516",
   "metadata": {},
   "outputs": [
    {
     "name": "stderr",
     "output_type": "stream",
     "text": [
      "***** Running Prediction *****\n",
      "  Num examples = 10\n",
      "  Batch size = 8\n",
      "C:\\Users\\Nikita\\AppData\\Local\\Temp\\ipykernel_10584\\3135598630.py:7: UserWarning: To copy construct from a tensor, it is recommended to use sourceTensor.clone().detach() or sourceTensor.clone().detach().requires_grad_(True), rather than torch.tensor(sourceTensor).\n",
      "  item = {key: torch.tensor(val[idx]) for key, val in self.encodings.items()}\n"
     ]
    },
    {
     "data": {
      "text/html": [],
      "text/plain": [
       "<IPython.core.display.HTML object>"
      ]
     },
     "metadata": {},
     "output_type": "display_data"
    },
    {
     "data": {
      "text/plain": [
       "PredictionOutput(predictions=array([[4.0964403],\n",
       "       [4.0964403],\n",
       "       [4.0964403],\n",
       "       [4.0964403],\n",
       "       [4.0964403],\n",
       "       [4.0964403],\n",
       "       [4.0964403],\n",
       "       [4.0964403],\n",
       "       [4.0964403],\n",
       "       [4.0964403]], dtype=float32), label_ids=array([1., 1., 0., 0., 1., 1., 0., 0., 0., 1.], dtype=float32), metrics={'test_loss': 13.1843843460083, 'test_runtime': 6.9055, 'test_samples_per_second': 1.448, 'test_steps_per_second': 0.29})"
      ]
     },
     "execution_count": 15,
     "metadata": {},
     "output_type": "execute_result"
    }
   ],
   "source": [
    "result_test_pred = trainer[max_index].predict(test_dataset)"
   ]
  },
  {
   "cell_type": "code",
   "execution_count": 17,
   "id": "bedbdd1a",
   "metadata": {},
   "outputs": [
    {
     "data": {
      "text/html": [
       "<div>\n",
       "<style scoped>\n",
       "    .dataframe tbody tr th:only-of-type {\n",
       "        vertical-align: middle;\n",
       "    }\n",
       "\n",
       "    .dataframe tbody tr th {\n",
       "        vertical-align: top;\n",
       "    }\n",
       "\n",
       "    .dataframe thead th {\n",
       "        text-align: right;\n",
       "    }\n",
       "</style>\n",
       "<table border=\"1\" class=\"dataframe\">\n",
       "  <thead>\n",
       "    <tr style=\"text-align: right;\">\n",
       "      <th></th>\n",
       "      <th>true</th>\n",
       "      <th>pred</th>\n",
       "    </tr>\n",
       "  </thead>\n",
       "  <tbody>\n",
       "    <tr>\n",
       "      <th>0</th>\n",
       "      <td>1.0</td>\n",
       "      <td>4.09644</td>\n",
       "    </tr>\n",
       "    <tr>\n",
       "      <th>1</th>\n",
       "      <td>1.0</td>\n",
       "      <td>4.09644</td>\n",
       "    </tr>\n",
       "    <tr>\n",
       "      <th>2</th>\n",
       "      <td>0.0</td>\n",
       "      <td>4.09644</td>\n",
       "    </tr>\n",
       "    <tr>\n",
       "      <th>3</th>\n",
       "      <td>0.0</td>\n",
       "      <td>4.09644</td>\n",
       "    </tr>\n",
       "    <tr>\n",
       "      <th>4</th>\n",
       "      <td>1.0</td>\n",
       "      <td>4.09644</td>\n",
       "    </tr>\n",
       "    <tr>\n",
       "      <th>5</th>\n",
       "      <td>1.0</td>\n",
       "      <td>4.09644</td>\n",
       "    </tr>\n",
       "    <tr>\n",
       "      <th>6</th>\n",
       "      <td>0.0</td>\n",
       "      <td>4.09644</td>\n",
       "    </tr>\n",
       "    <tr>\n",
       "      <th>7</th>\n",
       "      <td>0.0</td>\n",
       "      <td>4.09644</td>\n",
       "    </tr>\n",
       "    <tr>\n",
       "      <th>8</th>\n",
       "      <td>0.0</td>\n",
       "      <td>4.09644</td>\n",
       "    </tr>\n",
       "    <tr>\n",
       "      <th>9</th>\n",
       "      <td>1.0</td>\n",
       "      <td>4.09644</td>\n",
       "    </tr>\n",
       "  </tbody>\n",
       "</table>\n",
       "</div>"
      ],
      "text/plain": [
       "   true     pred\n",
       "0   1.0  4.09644\n",
       "1   1.0  4.09644\n",
       "2   0.0  4.09644\n",
       "3   0.0  4.09644\n",
       "4   1.0  4.09644\n",
       "5   1.0  4.09644\n",
       "6   0.0  4.09644\n",
       "7   0.0  4.09644\n",
       "8   0.0  4.09644\n",
       "9   1.0  4.09644"
      ]
     },
     "execution_count": 17,
     "metadata": {},
     "output_type": "execute_result"
    }
   ],
   "source": [
    "lst = []\n",
    "for i in range(len(test_dataset.labels)):\n",
    "    lst+=[scipy.special.expit(result_test_pred[0][i][0])]\n",
    "final_res = pd.DataFrame(zip(test_dataset.labels,lst),columns = ['true','pred'])\n",
    "final_res"
   ]
  },
  {
   "cell_type": "code",
   "execution_count": 18,
   "id": "02e9c82b",
   "metadata": {},
   "outputs": [],
   "source": [
    "def roc(test_result_old):   \n",
    "    fpr, tpr, treshold = roc_curve(test_result_old['true'], test_result_old['pred'])\n",
    "    roc_auc = auc(fpr, tpr)\n",
    "    plt.plot(fpr, tpr,\n",
    "         label=f'ROC (area = %0.2f)' % roc_auc)\n",
    "    plt.plot([0, 1], [0, 1], color='navy', linestyle='--')\n",
    "    plt.xlim([0.0, 1.0])\n",
    "    plt.ylim([0.0, 1.05])\n",
    "    plt.xlabel('False Positive Rate')\n",
    "    plt.ylabel('True Positive Rate')\n",
    "    plt.title('Совмещенные ROC-кривые')\n",
    "    plt.legend(loc=\"lower right\")\n",
    "    plt.show()"
   ]
  },
  {
   "cell_type": "code",
   "execution_count": 24,
   "id": "be5e37ff",
   "metadata": {},
   "outputs": [
    {
     "data": {
      "image/png": "[encoded data removed]",
      "text/plain": [
       "<Figure size 640x480 with 1 Axes>"
      ]
     },
     "metadata": {},
     "output_type": "display_data"
    }
   ],
   "source": [
    "roc(final_res)"
   ]
  },
  {
   "cell_type": "code",
   "execution_count": 38,
   "id": "15b65a5c",
   "metadata": {},
   "outputs": [],
   "source": [
    "def confuns_matrix(train_rezalt_old):\n",
    "    print(f'f1')\n",
    "    print(f1_score(train_rezalt_old['true'].tolist(), [int(p>0.5) for p in train_rezalt_old['pred']], average='macro'))\n",
    "    sns.heatmap(metrics.confusion_matrix(train_rezalt_old['true'],[int(p>0.5) for p in train_rezalt_old['pred']]),annot=True,cmap=\"Blues\",square=True)\n",
    "    plt.ylabel(\"label\")\n",
    "    plt.xlabel(f\"\")\n",
    "    plt.title(f\"Confusion matrix\")\n",
    "    plt.show()"
   ]
  },
  {
   "cell_type": "code",
   "execution_count": 41,
   "id": "35dead55",
   "metadata": {},
   "outputs": [
    {
     "name": "stdout",
     "output_type": "stream",
     "text": [
      "f1\n",
      "0.3333333333333333\n"
     ]
    },
    {
     "data": {
      "image/png": "[encoded data removed]",
      "text/plain": [
       "<Figure size 640x480 with 2 Axes>"
      ]
     },
     "metadata": {},
     "output_type": "display_data"
    }
   ],
   "source": [
    "confuns_matrix(final_res)"
   ]
  },
  {
   "cell_type": "code",
   "execution_count": null,
   "id": "f911b267",
   "metadata": {},
   "outputs": [],
   "source": []
  }
 ],
 "metadata": {
  "kernelspec": {
   "display_name": "Python 3 (ipykernel)",
   "language": "python",
   "name": "python3"
  },
  "language_info": {
   "codemirror_mode": {
    "name": "ipython",
    "version": 3
   },
   "file_extension": ".py",
   "mimetype": "text/x-python",
   "name": "python",
   "nbconvert_exporter": "python",
   "pygments_lexer": "ipython3",
   "version": "3.10.6"
  }
 },
 "nbformat": 4,
 "nbformat_minor": 5
}
