{
 "cells": [
  {
   "cell_type": "code",
   "execution_count": 1,
   "id": "759126ad",
   "metadata": {},
   "outputs": [
    {
     "name": "stdout",
     "output_type": "stream",
     "text": [
      "Note: you may need to restart the kernel to use updated packages.\n"
     ]
    },
    {
     "name": "stderr",
     "output_type": "stream",
     "text": [
      "ERROR: Could not open requirements file: [Errno 2] No such file or directory: '../requirements.txt'\n"
     ]
    }
   ],
   "source": [
    "pip install -r ../requirements.txt"
   ]
  },
  {
   "cell_type": "code",
   "execution_count": 2,
   "id": "c23c9d12",
   "metadata": {},
   "outputs": [],
   "source": [
    "import pandas as pd\n",
    "from transformers import AutoModelForSequenceClassification\n",
    "import numpy as np\n",
    "import evaluate\n",
    "from transformers import TrainingArguments, Trainer,AutoTokenizer\n",
    "import torch\n",
    "from torch.utils.data import Dataset\n",
    "from sklearn.metrics import roc_auc_score,roc_curve, auc,f1_score\n",
    "from sklearn.model_selection import train_test_split\n",
    "from sklearn import metrics\n",
    "import matplotlib.pyplot as plt\n",
    "import seaborn as sns\n",
    "import scipy"
   ]
  },
  {
   "cell_type": "code",
   "execution_count": 3,
   "id": "8b16b8d5",
   "metadata": {},
   "outputs": [
    {
     "name": "stderr",
     "output_type": "stream",
     "text": [
      "Some weights of the model checkpoint at voidism/diffcse-bert-base-uncased-trans were not used when initializing BertForSequenceClassification: ['aux_bert.encoder.layer.11.attention.output.dense.bias', 'lm_head.transform.dense.weight', 'aux_bert.encoder.layer.8.attention.output.dense.bias', 'aux_bert.encoder.layer.10.attention.self.value.bias', 'aux_bert.encoder.layer.1.attention.self.query.bias', 'aux_bert.encoder.layer.3.output.LayerNorm.bias', 'aux_bert.encoder.layer.10.attention.self.value.weight', 'generator.distilbert.transformer.layer.5.attention.k_lin.bias', 'aux_bert.encoder.layer.0.attention.self.query.weight', 'generator.vocab_projector.bias', 'aux_bert.encoder.layer.0.attention.self.key.bias', 'aux_bert.encoder.layer.1.attention.self.key.weight', 'aux_bert.encoder.layer.7.attention.self.query.weight', 'aux_bert.encoder.layer.9.attention.self.key.weight', 'generator.distilbert.transformer.layer.4.attention.q_lin.weight', 'aux_bert.embeddings.token_type_embeddings.weight', 'aux_bert.encoder.layer.1.output.LayerNorm.weight', 'generator.distilbert.transformer.layer.5.attention.out_lin.bias', 'generator.distilbert.transformer.layer.2.attention.q_lin.bias', 'aux_bert.embeddings.position_embeddings.weight', 'aux_bert.encoder.layer.9.attention.self.query.weight', 'aux_bert.encoder.layer.0.attention.output.dense.weight', 'aux_bert.encoder.layer.9.output.LayerNorm.weight', 'aux_bert.encoder.layer.10.attention.self.key.weight', 'aux_bert.encoder.layer.2.attention.self.query.bias', 'generator.distilbert.transformer.layer.5.attention.v_lin.weight', 'aux_bert.encoder.layer.10.intermediate.dense.weight', 'aux_bert.encoder.layer.9.output.dense.bias', 'generator.distilbert.transformer.layer.2.attention.k_lin.bias', 'aux_bert.encoder.layer.11.attention.self.value.bias', 'aux_bert.encoder.layer.11.output.dense.bias', 'generator.distilbert.transformer.layer.5.attention.q_lin.weight', 'generator.distilbert.transformer.layer.2.ffn.lin1.bias', 'aux_bert.encoder.layer.11.output.LayerNorm.bias', 'aux_bert.encoder.layer.9.intermediate.dense.weight', 'aux_bert.encoder.layer.0.attention.self.value.weight', 'aux_bert.encoder.layer.0.output.LayerNorm.bias', 'mlp.net.1.running_mean', 'aux_bert.encoder.layer.4.attention.self.key.bias', 'generator.distilbert.transformer.layer.1.ffn.lin2.bias', 'aux_bert.encoder.layer.3.attention.self.key.bias', 'generator.distilbert.embeddings.LayerNorm.bias', 'generator.distilbert.transformer.layer.2.attention.out_lin.bias', 'aux_bert.encoder.layer.10.output.LayerNorm.weight', 'aux_bert.encoder.layer.2.attention.self.value.bias', 'generator.distilbert.transformer.layer.2.ffn.lin1.weight', 'aux_bert.encoder.layer.1.output.dense.bias', 'mlp.net.1.bias', 'generator.distilbert.transformer.layer.1.attention.v_lin.weight', 'aux_bert.encoder.layer.1.intermediate.dense.bias', 'generator.distilbert.transformer.layer.1.output_layer_norm.weight', 'generator.distilbert.transformer.layer.3.attention.v_lin.weight', 'aux_bert.encoder.layer.10.attention.output.dense.bias', 'generator.distilbert.transformer.layer.2.attention.v_lin.bias', 'generator.distilbert.transformer.layer.3.ffn.lin2.weight', 'aux_bert.encoder.layer.11.intermediate.dense.bias', 'generator.distilbert.transformer.layer.0.attention.v_lin.weight', 'generator.distilbert.transformer.layer.0.ffn.lin1.weight', 'aux_bert.encoder.layer.6.attention.self.query.bias', 'aux_bert.encoder.layer.7.attention.output.dense.bias', 'aux_bert.encoder.layer.6.output.dense.weight', 'aux_bert.embeddings.word_embeddings.weight', 'generator.vocab_projector.weight', 'generator.distilbert.transformer.layer.3.sa_layer_norm.bias', 'generator.distilbert.embeddings.LayerNorm.weight', 'aux_bert.encoder.layer.8.attention.self.query.weight', 'aux_bert.encoder.layer.1.attention.self.query.weight', 'aux_bert.encoder.layer.9.attention.self.query.bias', 'aux_bert.encoder.layer.1.attention.output.dense.weight', 'mlp.net.4.running_var', 'generator.distilbert.transformer.layer.1.attention.q_lin.bias', 'generator.distilbert.transformer.layer.3.attention.q_lin.weight', 'aux_bert.encoder.layer.3.attention.output.dense.weight', 'aux_bert.encoder.layer.7.attention.self.key.bias', 'aux_bert.embeddings.LayerNorm.weight', 'aux_bert.encoder.layer.4.intermediate.dense.weight', 'generator.distilbert.transformer.layer.2.ffn.lin2.weight', 'aux_bert.encoder.layer.7.output.dense.weight', 'generator.distilbert.transformer.layer.0.ffn.lin2.bias', 'aux_bert.encoder.layer.10.output.LayerNorm.bias', 'mlp.net.4.num_batches_tracked', 'generator.distilbert.transformer.layer.5.ffn.lin2.bias', 'generator.distilbert.transformer.layer.0.attention.q_lin.bias', 'aux_bert.encoder.layer.9.attention.self.value.bias', 'aux_bert.encoder.layer.2.attention.output.dense.bias', 'aux_bert.encoder.layer.4.attention.self.query.bias', 'aux_bert.encoder.layer.5.attention.self.key.bias', 'aux_bert.encoder.layer.5.output.dense.weight', 'generator.distilbert.transformer.layer.5.output_layer_norm.bias', 'generator.distilbert.transformer.layer.3.attention.k_lin.bias', 'aux_bert.encoder.layer.11.output.LayerNorm.weight', 'generator.distilbert.transformer.layer.5.sa_layer_norm.weight', 'aux_bert.encoder.layer.3.attention.output.dense.bias', 'aux_bert.encoder.layer.7.intermediate.dense.weight', 'aux_bert.encoder.layer.11.attention.self.query.bias', 'aux_bert.encoder.layer.6.attention.output.LayerNorm.bias', 'generator.distilbert.transformer.layer.4.attention.v_lin.bias', 'mlp.net.1.weight', 'generator.distilbert.transformer.layer.4.attention.out_lin.weight', 'generator.distilbert.transformer.layer.4.attention.v_lin.weight', 'aux_bert.encoder.layer.5.attention.self.value.bias', 'generator.distilbert.transformer.layer.1.sa_layer_norm.bias', 'aux_bert.encoder.layer.11.attention.output.LayerNorm.weight', 'aux_bert.encoder.layer.4.output.LayerNorm.weight', 'aux_bert.encoder.layer.0.attention.output.LayerNorm.weight', 'aux_bert.encoder.layer.7.attention.self.query.bias', 'generator.distilbert.transformer.layer.2.attention.v_lin.weight', 'aux_bert.encoder.layer.0.intermediate.dense.weight', 'generator.distilbert.transformer.layer.0.attention.out_lin.weight', 'aux_bert.encoder.layer.2.attention.self.query.weight', 'aux_bert.encoder.layer.2.output.LayerNorm.weight', 'aux_bert.encoder.layer.7.output.dense.bias', 'aux_bert.encoder.layer.9.output.dense.weight', 'aux_bert.encoder.layer.6.attention.output.dense.weight', 'aux_bert.encoder.layer.3.attention.self.query.bias', 'aux_bert.encoder.layer.11.output.dense.weight', 'generator.distilbert.transformer.layer.0.ffn.lin1.bias', 'generator.distilbert.transformer.layer.3.ffn.lin2.bias', 'mlp.net.1.num_batches_tracked', 'aux_bert.encoder.layer.7.attention.output.dense.weight', 'aux_bert.encoder.layer.4.attention.self.key.weight', 'aux_bert.encoder.layer.6.output.LayerNorm.bias', 'aux_bert.encoder.layer.8.attention.output.LayerNorm.weight', 'aux_bert.encoder.layer.10.output.dense.bias', 'aux_bert.encoder.layer.5.attention.self.query.bias', 'aux_bert.encoder.layer.6.attention.self.value.bias', 'aux_bert.encoder.layer.6.attention.output.LayerNorm.weight', 'generator.distilbert.transformer.layer.1.ffn.lin1.weight', 'aux_bert.encoder.layer.5.intermediate.dense.bias', 'aux_bert.encoder.layer.4.attention.output.LayerNorm.bias', 'lm_head.transform.LayerNorm.bias', 'aux_bert.encoder.layer.2.output.dense.weight', 'aux_bert.encoder.layer.3.output.LayerNorm.weight', 'aux_bert.encoder.layer.4.attention.self.value.bias', 'aux_bert.encoder.layer.2.output.LayerNorm.bias', 'generator.distilbert.transformer.layer.1.attention.k_lin.weight', 'generator.distilbert.transformer.layer.3.attention.out_lin.weight', 'aux_bert.encoder.layer.1.attention.output.LayerNorm.bias', 'aux_bert.encoder.layer.0.output.dense.bias', 'aux_bert.encoder.layer.7.attention.self.key.weight', 'generator.distilbert.transformer.layer.3.attention.v_lin.bias', 'aux_bert.encoder.layer.5.intermediate.dense.weight', 'generator.distilbert.transformer.layer.0.attention.k_lin.weight', 'generator.distilbert.transformer.layer.2.sa_layer_norm.bias', 'aux_bert.encoder.layer.0.attention.output.dense.bias', 'aux_bert.encoder.layer.3.attention.output.LayerNorm.bias', 'aux_bert.encoder.layer.9.attention.self.key.bias', 'aux_bert.encoder.layer.2.attention.self.key.weight', 'generator.distilbert.transformer.layer.4.ffn.lin2.weight', 'generator.distilbert.embeddings.position_embeddings.weight', 'aux_bert.encoder.layer.10.output.dense.weight', 'aux_bert.encoder.layer.0.attention.self.key.weight', 'aux_bert.encoder.layer.7.attention.self.value.weight', 'aux_bert.encoder.layer.4.attention.self.value.weight', 'aux_bert.encoder.layer.6.attention.self.query.weight', 'aux_bert.encoder.layer.10.attention.output.dense.weight', 'generator.distilbert.transformer.layer.4.sa_layer_norm.weight', 'aux_bert.encoder.layer.8.output.LayerNorm.weight', 'generator.distilbert.transformer.layer.4.output_layer_norm.bias', 'aux_bert.encoder.layer.6.output.dense.bias', 'aux_bert.encoder.layer.10.attention.self.query.bias', 'aux_bert.encoder.layer.11.attention.self.key.bias', 'aux_bert.encoder.layer.1.intermediate.dense.weight', 'aux_bert.encoder.layer.7.attention.self.value.bias', 'aux_bert.encoder.layer.4.intermediate.dense.bias', 'generator.distilbert.transformer.layer.5.attention.v_lin.bias', 'aux_bert.encoder.layer.10.attention.self.key.bias', 'generator.distilbert.transformer.layer.4.output_layer_norm.weight', 'aux_bert.encoder.layer.10.attention.output.LayerNorm.bias', 'aux_bert.encoder.layer.1.output.LayerNorm.bias', 'aux_bert.encoder.layer.4.attention.output.dense.bias', 'generator.distilbert.transformer.layer.0.attention.q_lin.weight', 'aux_bert.encoder.layer.8.attention.output.dense.weight', 'generator.distilbert.transformer.layer.1.attention.q_lin.weight', 'aux_bert.encoder.layer.2.attention.output.LayerNorm.bias', 'aux_bert.encoder.layer.4.attention.output.LayerNorm.weight', 'aux_bert.encoder.layer.6.attention.self.value.weight', 'generator.distilbert.transformer.layer.2.attention.q_lin.weight', 'aux_bert.encoder.layer.8.intermediate.dense.bias', 'generator.distilbert.transformer.layer.4.ffn.lin1.weight', 'generator.distilbert.transformer.layer.5.attention.q_lin.bias', 'aux_bert.encoder.layer.9.attention.self.value.weight', 'generator.distilbert.transformer.layer.0.attention.out_lin.bias', 'aux_bert.encoder.layer.2.attention.output.LayerNorm.weight', 'aux_bert.encoder.layer.7.output.LayerNorm.bias', 'aux_bert.encoder.layer.4.attention.self.query.weight', 'aux_bert.encoder.layer.5.attention.self.query.weight', 'aux_bert.encoder.layer.4.output.dense.bias', 'aux_bert.encoder.layer.6.attention.self.key.bias', 'generator.distilbert.transformer.layer.1.attention.out_lin.weight', 'generator.distilbert.transformer.layer.3.output_layer_norm.weight', 'generator.distilbert.transformer.layer.1.output_layer_norm.bias', 'aux_bert.encoder.layer.6.intermediate.dense.weight', 'generator.distilbert.transformer.layer.1.attention.out_lin.bias', 'aux_bert.encoder.layer.8.output.dense.weight', 'aux_bert.encoder.layer.9.intermediate.dense.bias', 'aux_bert.encoder.layer.11.attention.self.key.weight', 'aux_bert.encoder.layer.11.intermediate.dense.weight', 'generator.distilbert.transformer.layer.5.output_layer_norm.weight', 'generator.distilbert.transformer.layer.3.ffn.lin1.bias', 'generator.distilbert.transformer.layer.4.attention.q_lin.bias', 'aux_bert.encoder.layer.2.intermediate.dense.weight', 'aux_bert.encoder.layer.8.intermediate.dense.weight', 'aux_bert.encoder.layer.9.attention.output.dense.bias', 'generator.distilbert.embeddings.word_embeddings.weight', 'aux_bert.encoder.layer.1.attention.self.value.weight', 'aux_bert.encoder.layer.10.attention.output.LayerNorm.weight', 'aux_bert.encoder.layer.2.attention.output.dense.weight', 'generator.vocab_transform.bias', 'aux_bert.encoder.layer.5.attention.output.LayerNorm.bias', 'aux_bert.encoder.layer.10.attention.self.query.weight', 'aux_bert.encoder.layer.10.intermediate.dense.bias', 'aux_bert.encoder.layer.7.output.LayerNorm.weight', 'generator.vocab_layer_norm.bias', 'aux_bert.encoder.layer.5.attention.output.LayerNorm.weight', 'aux_bert.encoder.layer.8.attention.self.key.weight', 'generator.distilbert.transformer.layer.2.output_layer_norm.bias', 'mlp.net.3.weight', 'aux_bert.encoder.layer.5.attention.self.value.weight', 'aux_bert.encoder.layer.2.attention.self.value.weight', 'aux_bert.encoder.layer.7.attention.output.LayerNorm.bias', 'generator.distilbert.transformer.layer.4.attention.k_lin.bias', 'generator.distilbert.transformer.layer.0.output_layer_norm.bias', 'aux_bert.encoder.layer.0.output.dense.weight', 'generator.distilbert.transformer.layer.3.sa_layer_norm.weight', 'aux_bert.encoder.layer.6.attention.output.dense.bias', 'generator.distilbert.transformer.layer.1.sa_layer_norm.weight', 'generator.distilbert.transformer.layer.5.ffn.lin1.weight', 'aux_bert.encoder.layer.4.output.dense.weight', 'aux_bert.encoder.layer.6.intermediate.dense.bias', 'aux_bert.encoder.layer.8.attention.output.LayerNorm.bias', 'generator.distilbert.transformer.layer.4.attention.k_lin.weight', 'mlp.net.1.running_var', 'aux_bert.encoder.layer.9.output.LayerNorm.bias', 'aux_bert.encoder.layer.11.attention.output.LayerNorm.bias', 'aux_bert.encoder.layer.2.attention.self.key.bias', 'aux_bert.encoder.layer.8.attention.self.key.bias', 'aux_bert.encoder.layer.2.output.dense.bias', 'generator.distilbert.transformer.layer.2.ffn.lin2.bias', 'aux_bert.encoder.layer.0.attention.output.LayerNorm.bias', 'aux_bert.embeddings.position_ids', 'generator.distilbert.transformer.layer.1.attention.k_lin.bias', 'aux_bert.encoder.layer.11.attention.self.query.weight', 'aux_bert.encoder.layer.3.attention.self.query.weight', 'lm_head.bias', 'generator.vocab_transform.weight', 'aux_bert.encoder.layer.0.attention.self.value.bias', 'aux_bert.encoder.layer.3.output.dense.weight', 'mlp.net.0.weight', 'generator.distilbert.transformer.layer.2.sa_layer_norm.weight', 'aux_bert.encoder.layer.8.attention.self.query.bias', 'lm_head.decoder.bias', 'aux_bert.encoder.layer.1.attention.self.value.bias', 'generator.distilbert.transformer.layer.3.attention.out_lin.bias', 'aux_bert.encoder.layer.3.output.dense.bias', 'generator.distilbert.transformer.layer.0.sa_layer_norm.weight', 'generator.distilbert.transformer.layer.4.attention.out_lin.bias', 'aux_bert.encoder.layer.3.attention.self.value.bias', 'aux_bert.encoder.layer.8.attention.self.value.weight', 'generator.distilbert.transformer.layer.5.sa_layer_norm.bias', 'aux_bert.encoder.layer.1.attention.self.key.bias', 'aux_bert.encoder.layer.9.attention.output.dense.weight', 'aux_bert.encoder.layer.3.intermediate.dense.bias', 'generator.distilbert.transformer.layer.3.attention.k_lin.weight', 'generator.distilbert.transformer.layer.0.output_layer_norm.weight', 'aux_bert.encoder.layer.1.attention.output.LayerNorm.weight', 'generator.distilbert.transformer.layer.0.ffn.lin2.weight', 'lm_head.transform.LayerNorm.weight', 'aux_bert.encoder.layer.5.attention.self.key.weight', 'aux_bert.encoder.layer.8.output.LayerNorm.bias', 'aux_bert.encoder.layer.6.attention.self.key.weight', 'generator.distilbert.transformer.layer.2.attention.out_lin.weight', 'aux_bert.encoder.layer.0.attention.self.query.bias', 'aux_bert.encoder.layer.8.output.dense.bias', 'aux_bert.encoder.layer.3.attention.self.value.weight', 'generator.distilbert.transformer.layer.3.attention.q_lin.bias', 'generator.distilbert.transformer.layer.1.attention.v_lin.bias', 'aux_bert.encoder.layer.6.output.LayerNorm.weight', 'aux_bert.encoder.layer.9.attention.output.LayerNorm.bias', 'generator.distilbert.transformer.layer.4.sa_layer_norm.bias', 'generator.distilbert.transformer.layer.3.ffn.lin1.weight', 'lm_head.transform.dense.bias', 'generator.distilbert.transformer.layer.0.attention.k_lin.bias', 'aux_bert.encoder.layer.4.output.LayerNorm.bias', 'aux_bert.encoder.layer.0.intermediate.dense.bias', 'generator.distilbert.transformer.layer.4.ffn.lin1.bias', 'aux_bert.encoder.layer.8.attention.self.value.bias', 'aux_bert.encoder.layer.5.output.dense.bias', 'aux_bert.encoder.layer.3.attention.output.LayerNorm.weight', 'aux_bert.encoder.layer.5.attention.output.dense.weight', 'generator.distilbert.transformer.layer.3.output_layer_norm.bias', 'aux_bert.encoder.layer.0.output.LayerNorm.weight', 'generator.distilbert.transformer.layer.2.attention.k_lin.weight', 'aux_bert.encoder.layer.11.attention.self.value.weight', 'aux_bert.encoder.layer.9.attention.output.LayerNorm.weight', 'generator.distilbert.transformer.layer.1.ffn.lin2.weight', 'aux_bert.encoder.layer.5.attention.output.dense.bias', 'aux_bert.encoder.layer.5.output.LayerNorm.bias', 'aux_bert.encoder.layer.1.attention.output.dense.bias', 'aux_bert.encoder.layer.4.attention.output.dense.weight', 'aux_bert.encoder.layer.2.intermediate.dense.bias', 'aux_bert.encoder.layer.3.attention.self.key.weight', 'mlp.net.4.running_mean', 'generator.distilbert.transformer.layer.2.output_layer_norm.weight', 'aux_bert.encoder.layer.3.intermediate.dense.weight', 'generator.distilbert.transformer.layer.5.ffn.lin1.bias', 'generator.distilbert.transformer.layer.1.ffn.lin1.bias', 'lm_head.decoder.weight', 'generator.distilbert.transformer.layer.5.ffn.lin2.weight', 'aux_bert.embeddings.LayerNorm.bias', 'generator.distilbert.transformer.layer.5.attention.out_lin.weight', 'aux_bert.encoder.layer.7.attention.output.LayerNorm.weight', 'aux_bert.encoder.layer.7.intermediate.dense.bias', 'aux_bert.encoder.layer.11.attention.output.dense.weight', 'aux_bert.encoder.layer.1.output.dense.weight', 'generator.distilbert.transformer.layer.0.attention.v_lin.bias', 'generator.distilbert.transformer.layer.0.sa_layer_norm.bias', 'aux_bert.encoder.layer.5.output.LayerNorm.weight', 'generator.vocab_layer_norm.weight', 'generator.distilbert.transformer.layer.5.attention.k_lin.weight', 'generator.distilbert.transformer.layer.4.ffn.lin2.bias']\n",
      "- This IS expected if you are initializing BertForSequenceClassification from the checkpoint of a model trained on another task or with another architecture (e.g. initializing a BertForSequenceClassification model from a BertForPreTraining model).\n",
      "- This IS NOT expected if you are initializing BertForSequenceClassification from the checkpoint of a model that you expect to be exactly identical (initializing a BertForSequenceClassification model from a BertForSequenceClassification model).\n"
     ]
    },
    {
     "name": "stderr",
     "output_type": "stream",
     "text": [
      "Some weights of BertForSequenceClassification were not initialized from the model checkpoint at voidism/diffcse-bert-base-uncased-trans and are newly initialized: ['classifier.bias', 'bert.pooler.dense.weight', 'classifier.weight', 'bert.pooler.dense.bias']\n",
      "You should probably TRAIN this model on a down-stream task to be able to use it for predictions and inference.\n"
     ]
    }
   ],
   "source": [
    "model = AutoModelForSequenceClassification.from_pretrained(\"voidism/diffcse-bert-base-uncased-trans\", num_labels=1)\n",
    "metric = evaluate.load(\"accuracy\")\n",
    "training_args = TrainingArguments(output_dir=\"test_trainer\", evaluation_strategy=\"epoch\")"
   ]
  },
  {
   "cell_type": "code",
   "execution_count": 4,
   "id": "fa9db75f",
   "metadata": {},
   "outputs": [
    {
     "data": {
      "text/html": [
       "<div>\n",
       "<style scoped>\n",
       "    .dataframe tbody tr th:only-of-type {\n",
       "        vertical-align: middle;\n",
       "    }\n",
       "\n",
       "    .dataframe tbody tr th {\n",
       "        vertical-align: top;\n",
       "    }\n",
       "\n",
       "    .dataframe thead th {\n",
       "        text-align: right;\n",
       "    }\n",
       "</style>\n",
       "<table border=\"1\" class=\"dataframe\">\n",
       "  <thead>\n",
       "    <tr style=\"text-align: right;\">\n",
       "      <th></th>\n",
       "      <th>text</th>\n",
       "      <th>label</th>\n",
       "    </tr>\n",
       "  </thead>\n",
       "  <tbody>\n",
       "    <tr>\n",
       "      <th>0</th>\n",
       "      <td>В связи с этим в подпрограмму включены следующ...</td>\n",
       "      <td>1</td>\n",
       "    </tr>\n",
       "    <tr>\n",
       "      <th>1</th>\n",
       "      <td>В последнее время я её нечасто видел.</td>\n",
       "      <td>1</td>\n",
       "    </tr>\n",
       "    <tr>\n",
       "      <th>2</th>\n",
       "      <td>Лермонтов прибыл на Кавказ, чтобы задействоват...</td>\n",
       "      <td>0</td>\n",
       "    </tr>\n",
       "    <tr>\n",
       "      <th>3</th>\n",
       "      <td>Хотите фруктового сока?</td>\n",
       "      <td>1</td>\n",
       "    </tr>\n",
       "    <tr>\n",
       "      <th>4</th>\n",
       "      <td>Однако, в рамках существующих условий «...</td>\n",
       "      <td>0</td>\n",
       "    </tr>\n",
       "    <tr>\n",
       "      <th>...</th>\n",
       "      <td>...</td>\n",
       "      <td>...</td>\n",
       "    </tr>\n",
       "    <tr>\n",
       "      <th>21506</th>\n",
       "      <td>Нет, не я, а ты!</td>\n",
       "      <td>1</td>\n",
       "    </tr>\n",
       "    <tr>\n",
       "      <th>21507</th>\n",
       "      <td>Кинолента \"Бегущий По Огню\" названа лучшей фил...</td>\n",
       "      <td>0</td>\n",
       "    </tr>\n",
       "    <tr>\n",
       "      <th>21508</th>\n",
       "      <td>В настоящее время в городе работает более 200 ...</td>\n",
       "      <td>0</td>\n",
       "    </tr>\n",
       "    <tr>\n",
       "      <th>21509</th>\n",
       "      <td>Российская теннисистка Мария Вавринка рассказа...</td>\n",
       "      <td>0</td>\n",
       "    </tr>\n",
       "    <tr>\n",
       "      <th>21510</th>\n",
       "      <td>80 лет в неофициальном искусстве СССР.</td>\n",
       "      <td>0</td>\n",
       "    </tr>\n",
       "  </tbody>\n",
       "</table>\n",
       "<p>21511 rows × 2 columns</p>\n",
       "</div>"
      ],
      "text/plain": [
       "                                                    text  label\n",
       "0      В связи с этим в подпрограмму включены следующ...      1\n",
       "1                  В последнее время я её нечасто видел.      1\n",
       "2      Лермонтов прибыл на Кавказ, чтобы задействоват...      0\n",
       "3                                Хотите фруктового сока?      1\n",
       "4             Однако, в рамках существующих условий «...      0\n",
       "...                                                  ...    ...\n",
       "21506                                   Нет, не я, а ты!      1\n",
       "21507  Кинолента \"Бегущий По Огню\" названа лучшей фил...      0\n",
       "21508  В настоящее время в городе работает более 200 ...      0\n",
       "21509  Российская теннисистка Мария Вавринка рассказа...      0\n",
       "21510             80 лет в неофициальном искусстве СССР.      0\n",
       "\n",
       "[21511 rows x 2 columns]"
      ]
     },
     "execution_count": 4,
     "metadata": {},
     "output_type": "execute_result"
    }
   ],
   "source": [
    "dataset_test = pd.read_parquet(r'val_rus.parquet', engine='fastparquet')\n",
    "dataset_test"
   ]
  },
  {
   "cell_type": "code",
   "execution_count": 5,
   "id": "9a208229",
   "metadata": {},
   "outputs": [
    {
     "data": {
      "text/html": [
       "<div>\n",
       "<style scoped>\n",
       "    .dataframe tbody tr th:only-of-type {\n",
       "        vertical-align: middle;\n",
       "    }\n",
       "\n",
       "    .dataframe tbody tr th {\n",
       "        vertical-align: top;\n",
       "    }\n",
       "\n",
       "    .dataframe thead th {\n",
       "        text-align: right;\n",
       "    }\n",
       "</style>\n",
       "<table border=\"1\" class=\"dataframe\">\n",
       "  <thead>\n",
       "    <tr style=\"text-align: right;\">\n",
       "      <th></th>\n",
       "      <th>text</th>\n",
       "      <th>label</th>\n",
       "    </tr>\n",
       "  </thead>\n",
       "  <tbody>\n",
       "    <tr>\n",
       "      <th>0</th>\n",
       "      <td>Обустройство тротуаров, мостовых (в том числе ...</td>\n",
       "      <td>1</td>\n",
       "    </tr>\n",
       "    <tr>\n",
       "      <th>1</th>\n",
       "      <td>Въ издержкахъ же оныхъ вы имете присылать счет...</td>\n",
       "      <td>1</td>\n",
       "    </tr>\n",
       "    <tr>\n",
       "      <th>2</th>\n",
       "      <td>Положи это туда, откуда взял.</td>\n",
       "      <td>1</td>\n",
       "    </tr>\n",
       "    <tr>\n",
       "      <th>3</th>\n",
       "      <td>Минстрой обозначил способы снижения энергоемко...</td>\n",
       "      <td>0</td>\n",
       "    </tr>\n",
       "    <tr>\n",
       "      <th>4</th>\n",
       "      <td>В конце 1873 года военный суд вынес решение по...</td>\n",
       "      <td>0</td>\n",
       "    </tr>\n",
       "    <tr>\n",
       "      <th>...</th>\n",
       "      <td>...</td>\n",
       "      <td>...</td>\n",
       "    </tr>\n",
       "    <tr>\n",
       "      <th>129061</th>\n",
       "      <td>Убытки МУП &amp;quot;Теплоэнерго&amp;nbsp;&amp;ndash;. На ...</td>\n",
       "      <td>0</td>\n",
       "    </tr>\n",
       "    <tr>\n",
       "      <th>129062</th>\n",
       "      <td>Три сестры были молодёжными послами на Национа...</td>\n",
       "      <td>1</td>\n",
       "    </tr>\n",
       "    <tr>\n",
       "      <th>129063</th>\n",
       "      <td>В Прекрасной России Будущего коты создадут сво...</td>\n",
       "      <td>1</td>\n",
       "    </tr>\n",
       "    <tr>\n",
       "      <th>129064</th>\n",
       "      <td>В семье наше будущее!</td>\n",
       "      <td>0</td>\n",
       "    </tr>\n",
       "    <tr>\n",
       "      <th>129065</th>\n",
       "      <td>Минюст рассказал об ответственности за публика...</td>\n",
       "      <td>0</td>\n",
       "    </tr>\n",
       "  </tbody>\n",
       "</table>\n",
       "<p>129066 rows × 2 columns</p>\n",
       "</div>"
      ],
      "text/plain": [
       "                                                     text  label\n",
       "0       Обустройство тротуаров, мостовых (в том числе ...      1\n",
       "1       Въ издержкахъ же оныхъ вы имете присылать счет...      1\n",
       "2                           Положи это туда, откуда взял.      1\n",
       "3       Минстрой обозначил способы снижения энергоемко...      0\n",
       "4       В конце 1873 года военный суд вынес решение по...      0\n",
       "...                                                   ...    ...\n",
       "129061  Убытки МУП &quot;Теплоэнерго&nbsp;&ndash;. На ...      0\n",
       "129062  Три сестры были молодёжными послами на Национа...      1\n",
       "129063  В Прекрасной России Будущего коты создадут сво...      1\n",
       "129064                              В семье наше будущее!      0\n",
       "129065  Минюст рассказал об ответственности за публика...      0\n",
       "\n",
       "[129066 rows x 2 columns]"
      ]
     },
     "execution_count": 5,
     "metadata": {},
     "output_type": "execute_result"
    }
   ],
   "source": [
    "dataset_train = pd.read_parquet(r'train_rus.parquet', engine='fastparquet')\n",
    "dataset_train"
   ]
  },
  {
   "cell_type": "code",
   "execution_count": null,
   "id": "26cca1a2",
   "metadata": {},
   "outputs": [],
   "source": [
    "dataset_test['label'] = dataset_test['label'].astype(float)\n",
    "dataset_train['label'] = dataset_train['label'].astype(float)"
   ]
  },
  {
   "cell_type": "code",
   "execution_count": 7,
   "id": "5697b90f",
   "metadata": {},
   "outputs": [],
   "source": [
    "dataset_train, dataset_eval, _, _ = train_test_split(dataset_train, dataset_train, test_size = 0.25,\n",
    "                                                      shuffle = True, random_state = 42)\n"
   ]
  },
  {
   "cell_type": "markdown",
   "id": "cf0e0011",
   "metadata": {},
   "source": [
    "Для русского датасета нужна загрузка его валидационной выборки"
   ]
  },
  {
   "cell_type": "code",
   "execution_count": 8,
   "id": "eb2cba0a",
   "metadata": {},
   "outputs": [],
   "source": [
    "train_texts, train_labels = dataset_train['text'].tolist(),dataset_train['label'].tolist()\n",
    "test_texts, test_labels = dataset_test['text'].tolist(),dataset_test['label'].tolist()\n",
    "eval_texts, eval_labels = dataset_eval['text'].tolist(),dataset_eval['label'].tolist()"
   ]
  },
  {
   "cell_type": "code",
   "execution_count": 9,
   "id": "86b49b0b",
   "metadata": {},
   "outputs": [],
   "source": [
    "tokenizer = AutoTokenizer.from_pretrained(\"voidism/diffcse-bert-base-uncased-trans\")\n",
    "train_encodings = tokenizer(train_texts, return_tensors='pt',\n",
    "                padding='max_length',\n",
    "                max_length=512,\n",
    "                truncation=True)\n",
    "test_encodings = tokenizer(test_texts, return_tensors='pt',\n",
    "                padding='max_length',\n",
    "                max_length=512,\n",
    "                truncation=True)\n",
    "eval_encodings = tokenizer(eval_texts, return_tensors='pt',\n",
    "                padding='max_length',\n",
    "                max_length=512,\n",
    "                truncation=True)"
   ]
  },
  {
   "cell_type": "code",
   "execution_count": 11,
   "id": "de06420d",
   "metadata": {},
   "outputs": [],
   "source": [
    "class MyDataset(torch.utils.data.Dataset):\n",
    "    def __init__(self, encodings, labels):\n",
    "        self.encodings = encodings\n",
    "        self.labels = labels\n",
    "\n",
    "    def __getitem__(self, idx):\n",
    "        item = {key: torch.tensor(val[idx]) for key, val in self.encodings.items()}\n",
    "        item['labels'] = torch.tensor(self.labels[idx])\n",
    "        return item\n",
    "\n",
    "    def __len__(self):\n",
    "        return len(self.labels)"
   ]
  },
  {
   "cell_type": "code",
   "execution_count": 12,
   "id": "499f4728",
   "metadata": {},
   "outputs": [],
   "source": [
    "train_dataset = MyDataset(train_encodings, train_labels)\n",
    "test_dataset = MyDataset(test_encodings, test_labels)\n",
    "eval_dataset = MyDataset(eval_encodings, eval_labels)\n"
   ]
  },
  {
   "cell_type": "code",
   "execution_count": 13,
   "id": "68766a32",
   "metadata": {},
   "outputs": [],
   "source": [
    "optim_param = ['adafactor','adamw_torch']"
   ]
  },
  {
   "cell_type": "code",
   "execution_count": 14,
   "id": "5e8b9041",
   "metadata": {},
   "outputs": [
    {
     "name": "stderr",
     "output_type": "stream",
     "text": [
      "***** Running training *****\n",
      "  Num examples = 30\n",
      "  Num Epochs = 3\n",
      "  Instantaneous batch size per device = 8\n",
      "  Total train batch size (w. parallel, distributed & accumulation) = 8\n",
      "  Gradient Accumulation steps = 1\n",
      "  Total optimization steps = 12\n",
      "  Number of trainable parameters = 109483778\n",
      "C:\\Users\\Nikita\\AppData\\Local\\Temp\\ipykernel_10124\\3135598630.py:7: UserWarning: To copy construct from a tensor, it is recommended to use sourceTensor.clone().detach() or sourceTensor.clone().detach().requires_grad_(True), rather than torch.tensor(sourceTensor).\n",
      "  item = {key: torch.tensor(val[idx]) for key, val in self.encodings.items()}\n"
     ]
    },
    {
     "data": {
      "text/html": [
       "\n",
       "    <div>\n",
       "      \n",
       "      <progress value='12' max='12' style='width:300px; height:20px; vertical-align: middle;'></progress>\n",
       "      [12/12 05:02, Epoch 3/3]\n",
       "    </div>\n",
       "    <table border=\"1\" class=\"dataframe\">\n",
       "  <thead>\n",
       " <tr style=\"text-align: left;\">\n",
       "      <th>Epoch</th>\n",
       "      <th>Training Loss</th>\n",
       "      <th>Validation Loss</th>\n",
       "    </tr>\n",
       "  </thead>\n",
       "  <tbody>\n",
       "    <tr>\n",
       "      <td>1</td>\n",
       "      <td>No log</td>\n",
       "      <td>0.818323</td>\n",
       "    </tr>\n",
       "    <tr>\n",
       "      <td>2</td>\n",
       "      <td>No log</td>\n",
       "      <td>0.789432</td>\n",
       "    </tr>\n",
       "    <tr>\n",
       "      <td>3</td>\n",
       "      <td>No log</td>\n",
       "      <td>0.756015</td>\n",
       "    </tr>\n",
       "  </tbody>\n",
       "</table><p>"
      ],
      "text/plain": [
       "<IPython.core.display.HTML object>"
      ]
     },
     "metadata": {},
     "output_type": "display_data"
    },
    {
     "name": "stderr",
     "output_type": "stream",
     "text": [
      "***** Running Evaluation *****\n",
      "  Num examples = 10\n",
      "  Batch size = 8\n",
      "***** Running Evaluation *****\n",
      "  Num examples = 10\n",
      "  Batch size = 8\n",
      "***** Running Evaluation *****\n",
      "  Num examples = 10\n",
      "  Batch size = 8\n",
      "\n",
      "\n",
      "Training completed. Do not forget to share your model on huggingface.co/models =)\n",
      "\n",
      "\n",
      "***** Running Prediction *****\n",
      "  Num examples = 10\n",
      "  Batch size = 8\n"
     ]
    },
    {
     "data": {
      "text/html": [],
      "text/plain": [
       "<IPython.core.display.HTML object>"
      ]
     },
     "metadata": {},
     "output_type": "display_data"
    },
    {
     "name": "stderr",
     "output_type": "stream",
     "text": [
      "***** Running training *****\n",
      "  Num examples = 30\n",
      "  Num Epochs = 3\n",
      "  Instantaneous batch size per device = 8\n",
      "  Total train batch size (w. parallel, distributed & accumulation) = 8\n",
      "  Gradient Accumulation steps = 1\n",
      "  Total optimization steps = 12\n",
      "  Number of trainable parameters = 109483778\n",
      "C:\\Users\\Nikita\\AppData\\Local\\Temp\\ipykernel_10124\\3135598630.py:7: UserWarning: To copy construct from a tensor, it is recommended to use sourceTensor.clone().detach() or sourceTensor.clone().detach().requires_grad_(True), rather than torch.tensor(sourceTensor).\n",
      "  item = {key: torch.tensor(val[idx]) for key, val in self.encodings.items()}\n"
     ]
    },
    {
     "data": {
      "text/html": [
       "\n",
       "    <div>\n",
       "      \n",
       "      <progress value='12' max='12' style='width:300px; height:20px; vertical-align: middle;'></progress>\n",
       "      [12/12 03:23, Epoch 3/3]\n",
       "    </div>\n",
       "    <table border=\"1\" class=\"dataframe\">\n",
       "  <thead>\n",
       " <tr style=\"text-align: left;\">\n",
       "      <th>Epoch</th>\n",
       "      <th>Training Loss</th>\n",
       "      <th>Validation Loss</th>\n",
       "    </tr>\n",
       "  </thead>\n",
       "  <tbody>\n",
       "    <tr>\n",
       "      <td>1</td>\n",
       "      <td>No log</td>\n",
       "      <td>0.783475</td>\n",
       "    </tr>\n",
       "    <tr>\n",
       "      <td>2</td>\n",
       "      <td>No log</td>\n",
       "      <td>0.767124</td>\n",
       "    </tr>\n",
       "    <tr>\n",
       "      <td>3</td>\n",
       "      <td>No log</td>\n",
       "      <td>0.785296</td>\n",
       "    </tr>\n",
       "  </tbody>\n",
       "</table><p>"
      ],
      "text/plain": [
       "<IPython.core.display.HTML object>"
      ]
     },
     "metadata": {},
     "output_type": "display_data"
    },
    {
     "name": "stderr",
     "output_type": "stream",
     "text": [
      "***** Running Evaluation *****\n",
      "  Num examples = 10\n",
      "  Batch size = 8\n",
      "***** Running Evaluation *****\n",
      "  Num examples = 10\n",
      "  Batch size = 8\n",
      "***** Running Evaluation *****\n",
      "  Num examples = 10\n",
      "  Batch size = 8\n",
      "\n",
      "\n",
      "Training completed. Do not forget to share your model on huggingface.co/models =)\n",
      "\n",
      "\n",
      "***** Running Prediction *****\n",
      "  Num examples = 10\n",
      "  Batch size = 8\n"
     ]
    },
    {
     "data": {
      "text/html": [],
      "text/plain": [
       "<IPython.core.display.HTML object>"
      ]
     },
     "metadata": {},
     "output_type": "display_data"
    }
   ],
   "source": [
    "trainer = []\n",
    "result = []\n",
    "final_lst = []\n",
    "for opt in optim_param:\n",
    "    training_args.optim = opt\n",
    "    trainer += [Trainer(\n",
    "        model=model,\n",
    "        args=training_args,\n",
    "        train_dataset=train_dataset,\n",
    "        eval_dataset=eval_dataset\n",
    "    )]\n",
    "for i in range(len(trainer)):\n",
    "    trainer[i].train()\n",
    "    lst = []\n",
    "    result_test_pred = trainer[i].predict(eval_dataset)\n",
    "    for i in range(len(eval_dataset.labels)):\n",
    "        lst+=[scipy.special.expit(result_test_pred[0][i][0])]\n",
    "    final_lst+=[lst]\n",
    "    result += [pd.DataFrame(zip(eval_dataset.labels,lst),columns = ['true','pred'])]"
   ]
  },
  {
   "cell_type": "code",
   "execution_count": 15,
   "id": "bfbdcb92",
   "metadata": {},
   "outputs": [
    {
     "data": {
      "text/plain": [
       "0"
      ]
     },
     "execution_count": 15,
     "metadata": {},
     "output_type": "execute_result"
    }
   ],
   "source": [
    "res = []\n",
    "for i in range(len(result)):\n",
    "    res+=[roc_auc_score(result[i]['true'], result[i]['pred'])]\n",
    "max_value = max(res)\n",
    "max_index = res.index(max_value)\n",
    "max_index"
   ]
  },
  {
   "cell_type": "code",
   "execution_count": 18,
   "id": "f8c4eea4",
   "metadata": {},
   "outputs": [],
   "source": [
    "def find_model(optim_list,max_index):\n",
    "    i = 0\n",
    "    best_model = []\n",
    "    for num_1,opt in enumerate(optim_list):\n",
    "        print(i,opt)\n",
    "        if i == max_index:\n",
    "            best_model= [opt]\n",
    "            return best_model\n",
    "        else:\n",
    "            i+=1\n",
    "        "
   ]
  },
  {
   "cell_type": "code",
   "execution_count": 19,
   "id": "2264e655",
   "metadata": {},
   "outputs": [
    {
     "name": "stdout",
     "output_type": "stream",
     "text": [
      "0 adafactor\n"
     ]
    },
    {
     "data": {
      "text/plain": [
       "['adafactor']"
      ]
     },
     "execution_count": 19,
     "metadata": {},
     "output_type": "execute_result"
    }
   ],
   "source": [
    "best_model = find_model(optim_param,max_index)\n",
    "best_model"
   ]
  },
  {
   "cell_type": "code",
   "execution_count": 20,
   "id": "f696b516",
   "metadata": {},
   "outputs": [
    {
     "name": "stderr",
     "output_type": "stream",
     "text": [
      "***** Running Prediction *****\n",
      "  Num examples = 10\n",
      "  Batch size = 8\n",
      "C:\\Users\\Nikita\\AppData\\Local\\Temp\\ipykernel_10124\\3135598630.py:7: UserWarning: To copy construct from a tensor, it is recommended to use sourceTensor.clone().detach() or sourceTensor.clone().detach().requires_grad_(True), rather than torch.tensor(sourceTensor).\n",
      "  item = {key: torch.tensor(val[idx]) for key, val in self.encodings.items()}\n"
     ]
    },
    {
     "data": {
      "text/html": [],
      "text/plain": [
       "<IPython.core.display.HTML object>"
      ]
     },
     "metadata": {},
     "output_type": "display_data"
    }
   ],
   "source": [
    "result_test_pred = trainer[max_index].predict(test_dataset)"
   ]
  },
  {
   "cell_type": "code",
   "execution_count": 21,
   "id": "bedbdd1a",
   "metadata": {},
   "outputs": [
    {
     "data": {
      "text/html": [
       "<div>\n",
       "<style scoped>\n",
       "    .dataframe tbody tr th:only-of-type {\n",
       "        vertical-align: middle;\n",
       "    }\n",
       "\n",
       "    .dataframe tbody tr th {\n",
       "        vertical-align: top;\n",
       "    }\n",
       "\n",
       "    .dataframe thead th {\n",
       "        text-align: right;\n",
       "    }\n",
       "</style>\n",
       "<table border=\"1\" class=\"dataframe\">\n",
       "  <thead>\n",
       "    <tr style=\"text-align: right;\">\n",
       "      <th></th>\n",
       "      <th>true</th>\n",
       "      <th>pred</th>\n",
       "    </tr>\n",
       "  </thead>\n",
       "  <tbody>\n",
       "    <tr>\n",
       "      <th>0</th>\n",
       "      <td>0</td>\n",
       "      <td>0.416468</td>\n",
       "    </tr>\n",
       "    <tr>\n",
       "      <th>1</th>\n",
       "      <td>0</td>\n",
       "      <td>0.426478</td>\n",
       "    </tr>\n",
       "    <tr>\n",
       "      <th>2</th>\n",
       "      <td>1</td>\n",
       "      <td>0.368305</td>\n",
       "    </tr>\n",
       "    <tr>\n",
       "      <th>3</th>\n",
       "      <td>1</td>\n",
       "      <td>0.376901</td>\n",
       "    </tr>\n",
       "    <tr>\n",
       "      <th>4</th>\n",
       "      <td>0</td>\n",
       "      <td>0.405139</td>\n",
       "    </tr>\n",
       "    <tr>\n",
       "      <th>5</th>\n",
       "      <td>0</td>\n",
       "      <td>0.406762</td>\n",
       "    </tr>\n",
       "    <tr>\n",
       "      <th>6</th>\n",
       "      <td>0</td>\n",
       "      <td>0.377682</td>\n",
       "    </tr>\n",
       "    <tr>\n",
       "      <th>7</th>\n",
       "      <td>1</td>\n",
       "      <td>0.414561</td>\n",
       "    </tr>\n",
       "    <tr>\n",
       "      <th>8</th>\n",
       "      <td>1</td>\n",
       "      <td>0.413636</td>\n",
       "    </tr>\n",
       "    <tr>\n",
       "      <th>9</th>\n",
       "      <td>1</td>\n",
       "      <td>0.405412</td>\n",
       "    </tr>\n",
       "  </tbody>\n",
       "</table>\n",
       "</div>"
      ],
      "text/plain": [
       "   true      pred\n",
       "0     0  0.416468\n",
       "1     0  0.426478\n",
       "2     1  0.368305\n",
       "3     1  0.376901\n",
       "4     0  0.405139\n",
       "5     0  0.406762\n",
       "6     0  0.377682\n",
       "7     1  0.414561\n",
       "8     1  0.413636\n",
       "9     1  0.405412"
      ]
     },
     "execution_count": 21,
     "metadata": {},
     "output_type": "execute_result"
    }
   ],
   "source": [
    "lst = []\n",
    "for i in range(len(test_dataset.labels)):\n",
    "    lst+=[scipy.special.expit(result_test_pred[0][i][0])]\n",
    "final_res = pd.DataFrame(zip(test_dataset.labels,lst),columns = ['true','pred'])\n",
    "final_res"
   ]
  },
  {
   "cell_type": "code",
   "execution_count": 22,
   "id": "02e9c82b",
   "metadata": {},
   "outputs": [],
   "source": [
    "def roc(test_result_old):   \n",
    "    fpr, tpr, treshold = roc_curve(test_result_old['true'], test_result_old['pred'])\n",
    "    roc_auc = auc(fpr, tpr)\n",
    "    plt.plot(fpr, tpr,\n",
    "         label=f'ROC (area = %0.2f)' % roc_auc)\n",
    "    plt.plot([0, 1], [0, 1], color='navy', linestyle='--')\n",
    "    plt.xlim([0.0, 1.0])\n",
    "    plt.ylim([0.0, 1.05])\n",
    "    plt.xlabel('False Positive Rate')\n",
    "    plt.ylabel('True Positive Rate')\n",
    "    plt.title('Совмещенные ROC-кривые')\n",
    "    plt.legend(loc=\"lower right\")\n",
    "    plt.show()"
   ]
  },
  {
   "cell_type": "code",
   "execution_count": 23,
   "id": "be5e37ff",
   "metadata": {},
   "outputs": [
    {
     "data": {
      "image/png": "[encoded data removed]",
      "text/plain": [
       "<Figure size 640x480 with 1 Axes>"
      ]
     },
     "metadata": {},
     "output_type": "display_data"
    }
   ],
   "source": [
    "roc(final_res)"
   ]
  },
  {
   "cell_type": "code",
   "execution_count": 24,
   "id": "15b65a5c",
   "metadata": {},
   "outputs": [],
   "source": [
    "def confuns_matrix(train_rezalt_old):\n",
    "    print(f'f1')\n",
    "    print(f1_score(train_rezalt_old['true'].tolist(), [int(p>0.5) for p in train_rezalt_old['pred']], average='macro'))\n",
    "    sns.heatmap(metrics.confusion_matrix(train_rezalt_old['true'],[int(p>0.5) for p in train_rezalt_old['pred']]),annot=True,cmap=\"Blues\",square=True)\n",
    "    plt.ylabel(\"label\")\n",
    "    plt.xlabel(f\"\")\n",
    "    plt.title(f\"Confusion matrix\")\n",
    "    plt.show()"
   ]
  },
  {
   "cell_type": "code",
   "execution_count": 25,
   "id": "35dead55",
   "metadata": {},
   "outputs": [
    {
     "name": "stdout",
     "output_type": "stream",
     "text": [
      "f1\n",
      "0.3333333333333333\n"
     ]
    },
    {
     "data": {
      "image/png": "[encoded data removed]",
      "text/plain": [
       "<Figure size 640x480 with 2 Axes>"
      ]
     },
     "metadata": {},
     "output_type": "display_data"
    }
   ],
   "source": [
    "confuns_matrix(final_res)"
   ]
  },
  {
   "cell_type": "code",
   "execution_count": null,
   "id": "459ab36c",
   "metadata": {},
   "outputs": [],
   "source": []
  }
 ],
 "metadata": {
  "kernelspec": {
   "display_name": "Python 3 (ipykernel)",
   "language": "python",
   "name": "python3"
  },
  "language_info": {
   "codemirror_mode": {
    "name": "ipython",
    "version": 3
   },
   "file_extension": ".py",
   "mimetype": "text/x-python",
   "name": "python",
   "nbconvert_exporter": "python",
   "pygments_lexer": "ipython3",
   "version": "3.10.6"
  }
 },
 "nbformat": 4,
 "nbformat_minor": 5
}
